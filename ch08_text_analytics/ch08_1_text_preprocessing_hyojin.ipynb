{
 "cells": [
  {
   "cell_type": "markdown",
   "metadata": {},
   "source": [
    "## 출처\n",
    "* 자연어 처리 (NLP) : https://bkshin.tistory.com/category/%EC%9E%90%EC%97%B0%EC%96%B4%20%EC%B2%98%EB%A6%AC%20%28NLP%29  \n",
    "* 딥 러닝을 이용한 자연어 처리 입문 : https://wikidocs.net/21698  \n",
    "* 6. Bag of Words : https://sg-data.tistory.com/38  \n",
    "* [머신러닝 완벽가이드] Chap.8 텍스트 분석 : https://velog.io/@yepark/%EB%A8%B8%EC%8B%A0%EB%9F%AC%EB%8B%9D-%EC%99%84%EB%B2%BD%EA%B0%80%EC%9D%B4%EB%93%9C-Chap.8-%ED%85%8D%EC%8A%A4%ED%8A%B8-%EB%B6%84%EC%84%9D"
   ]
  },
  {
   "cell_type": "markdown",
   "metadata": {},
   "source": [
    "# 자연어처리(NLP) vs 텍스트마이닝(or 텍스트분석)\n",
    "\n",
    "### 자연어처리 NLP(Natural Language Processing)\n",
    "* 자연어(Natural Language)란 인간이 일상에서 사용하는 언어\n",
    "* 자연어 처리(Natural Laguage Processing)란 기계가 자연어를 이해하고 해석하여 처리할 수 있도록 하는 일\n",
    "* 텍스트 분석을 향상 시키는 기반기술\n",
    "\n",
    "### 텍스마이닝 (Text Analytics or Text Mining)\n",
    "* 비정형 텍스트에서 의미있는 정보 추출하여 인사이트 얻는것에 중점"
   ]
  },
  {
   "cell_type": "markdown",
   "metadata": {},
   "source": [
    "# 주요 기술 영역\n",
    "#### 1. 텍스트 분류 (Text Classification)\n",
    "* 문서가 특정 분류 또는 카테고리에 속하는 것을 예측하는 기법\n",
    "* 지도 학습을 적용\n",
    "* 기사 카테고리 분류 및 스팸 메일 검출 프로그램에 활용\n",
    "\n",
    "#### 2. 감성 분석 (Sentiment Analysis)\n",
    "* 텍스트에서 나타나는 감정/판단/믿음/의견/기분등 주관적인 요소를 분석하는 기법\n",
    "* 지도학습 뿐만 아니라 비지도 학습을 이용해서도 적용가능\n",
    "* 소셜 미디어 감정 분석, 영화나 제품의 리뷰 긍정, 부정 분석등에 사용되는 기법\n",
    "* 텍스트 분석에서 가장 활발하게 사용되는 분야\n",
    "\n",
    "#### 3. 텍스트 요약 (Summarization)\n",
    "* 텍스트 내 주요 주제나 중심 사상을 추출하는 기법\n",
    "* 토픽 모델링(Topic Modeling)에 사용\n",
    "\n",
    "#### 4. 텍스트 군집화(Clustering)와 유사도 측정\n",
    "* 비슷한 유형의 문서를 모아 군집화를 수행하는 기법"
   ]
  },
  {
   "cell_type": "markdown",
   "metadata": {},
   "source": [
    "# 텍스트 분석 수행 프로세스\n",
    "####  텍스트 사전 준비 작업 (전처리) -> 피처 벡터화/추출  -> ML모델 수립 및 학습/예측/평가\n",
    "\n",
    "1. 텍스트 사전 준비작업(텍스트 전처리) : 텍스트 정규화 작업\n",
    "    * 대/소문자 변경, 특수문자 삭제, 이모티콘 삭제 등의 전처리 작업\n",
    "    * 단어(Word) 토큰화 작업\n",
    "    * 불용어(Stop word) 제거 작업\n",
    "    * 어근 추출(Stemming/Lemmatization)등\n",
    "2. 피처 벡터화/추출 : 사전 준비작업으로 가공된 텍스트에서 피처를 추출하고 여기에 벡터값을 할당\n",
    "    * BOW, Word2Vec\n",
    "3. ML모델 수립 및 학습/예측/평가 :\n",
    "    * 피처 벡터화된 데이터 세트에 ML 모델을 적용해 학습/예측 및 평가 수행"
   ]
  },
  {
   "cell_type": "markdown",
   "metadata": {},
   "source": [
    "# 파이썬 기반의 NLP, 텍스트 분석 패키지\n",
    "* 사이킷런은 머신러닝 위주의 라이브러리여서 NLP를 위한 다양한 라이브러리는 가지고 있지 않음(ex. '어근처리'와 같은 NLP 패키지에 특화된 라이브러리)\n",
    "* 텍스트를 일정 수준으로 가공하고 머신러닝 알고리즘에 텍스트 데이터를 피처로 처리하기 위한 편리한 기능을 제공하고 있어 사이킷런으로 충분히 분석 기능 수행\n",
    "* 다양한 텍스트 분석이 적용 되어야하는 경우 NLTK/ Gensim / SpaCy 와 같은 NLP 전용 패키지와 함께 결합하여 사용\n",
    "\n",
    "#### NLTK(Natural Language Toolkit for Python) \n",
    "* 파이썬의 가장 대표적인 NLP 패키지\n",
    "* 방대한 데이터 세트와 서브 모듈 보유\n",
    "* NLP의 거의 보든 영역을 커버\n",
    "* 수행 속도 측면에서 아쉬운 부분이 있어 실제 대량의 데이터 기반에서는 제대로 활용되지 못하고있음\n",
    "\n",
    "#### Gensim\n",
    "* 토픽 모델링 분야에서 가장 두각을 나타내는 패키지\n",
    "* Word2Vec 구현등 신기능 제공\n",
    "\n",
    "#### SpaCy\n",
    "* 뛰어난 수행 성능으로 가장 주목 받는 NLP 패키지"
   ]
  },
  {
   "cell_type": "markdown",
   "metadata": {},
   "source": [
    "# 텍스트 사전 준비 작업 (텍스트 전처리) - 텍스트 정규화\n",
    "* 텍스트 자체를 바로 피처를 만들수 없고 사전에 텍스트를 가공하는 준비 작업 필요\n",
    "* 정규화 작업의 분류 : 클렌징(Cleansing) , 토큰화(Tokenization), 필터링/ 스톱워드 제거/철자 수정, Stemming, Lemmatiztion\n"
   ]
  },
  {
   "cell_type": "markdown",
   "metadata": {},
   "source": [
    "### 1. 클렌징\n",
    "- 텍스트 분석제 방해가 되는 불필요한 문자, 기호 등을 사전에 제거하는 작업\n",
    "- ex. HTML, XML 태그나 특정 기호등을 사전에 제거\n",
    "\n",
    "### 2. 텍스트 토큰화\n",
    "- 토큰(Token)이란 문법적으로 더 이상 나눌 수 없는 언어요소\n",
    "- 텍스트 토큰화(Text Tokenization)란 말뭉치로부터 토큰을 분리하는 작업\n",
    "    - 말뭉치 또는 코퍼스(Corpus)는 자연언어 연구를 위해 특정한 목적을 가지고 언어의 표본을 추출한 집합이다. => 텍스트 표본\n",
    "- ex. \"There is an apple\"이라는 말뭉치(Corpus)가 있을 때 이를 토큰화한다고 하면, \"There\", \"is\", \"an\", \"apple\"로 나뉩니다.\n"
   ]
  },
  {
   "cell_type": "markdown",
   "metadata": {},
   "source": [
    "#### 문장 토큰화 : 문서에서 문장을 분리하는 작업\n",
    "* 문장의 마침표(.), 개행문자(\\n)등 문장의 마지막을 뜻하는 기호에 따라 분리하는 것이 일반적\n",
    "* 정규 표현식에 따른 문장 토큰화도 가능  \n",
    "\n",
    "* ex. 문장 토큰화 수행\n",
    "    * 3개의 문장으로 이뤄진 문서를 각 문장으로 분리\n",
    "    * NLTK 에서 많이 쓰이는 sent_tokenize 이용하여 토큰화"
   ]
  },
  {
   "cell_type": "code",
   "execution_count": 1,
   "metadata": {},
   "outputs": [],
   "source": [
    "from nltk import sent_tokenize\n",
    "import nltk\n",
    "nltk.download('punkt')"
   ]
  },
  {
   "cell_type": "code",
   "execution_count": 3,
   "metadata": {},
   "outputs": [
    {
     "name": "stdout",
     "output_type": "stream",
     "text": [
      "<class 'list'> 3\n",
      "['The Matrix is everywhere its all around us, here even in this room.', 'You can see it out your window or on your television.', 'You feel it when you go to work, or go to church or pay your taxes.']\n"
     ]
    }
   ],
   "source": [
    "text_sample = 'The Matrix is everywhere its all around us, here even in this room. \\\n",
    "               You can see it out your window or on your television. \\\n",
    "               You feel it when you go to work, or go to church or pay your taxes.'\n",
    "sentences = sent_tokenize(text=text_sample)\n",
    "print(type(sentences),len(sentences))\n",
    "print(sentences)"
   ]
  },
  {
   "cell_type": "markdown",
   "metadata": {},
   "source": [
    "3개의 문장이 포함된 list 객체 반환"
   ]
  },
  {
   "cell_type": "markdown",
   "metadata": {},
   "source": [
    "#### 단어 토큰화 : 문장에서 단어를 분리하는 작업\n",
    "* 공백, 콤마(,), 마침표(.), 개행문자 등으로 단어 분리\n",
    "* 정규표현식을 이용해 다양한 유형으로 토큰화 수행"
   ]
  },
  {
   "cell_type": "markdown",
   "metadata": {},
   "source": [
    "* ex1. 단어 토큰화 수행1 : word_tokenize()이용해 단어로 토큰화"
   ]
  },
  {
   "cell_type": "code",
   "execution_count": 4,
   "metadata": {},
   "outputs": [
    {
     "name": "stdout",
     "output_type": "stream",
     "text": [
      "<class 'list'> 15\n",
      "['The', 'Matrix', 'is', 'everywhere', 'its', 'all', 'around', 'us', ',', 'here', 'even', 'in', 'this', 'room', '.']\n"
     ]
    }
   ],
   "source": [
    "from nltk import word_tokenize\n",
    "\n",
    "sentence = \"The Matrix is everywhere its all around us, here even in this room.\"\n",
    "words = word_tokenize(sentence)\n",
    "print(type(words), len(words))\n",
    "print(words)"
   ]
  },
  {
   "cell_type": "markdown",
   "metadata": {},
   "source": [
    "* ex2. 단어 토큰화 수행2 : sent_tokenize, word_tokenize 조합하여 모든 단어토큰화\n",
    "    * test_smple을 문장별로 단어 토큰화 : tokenize_text() 함수 생성\n",
    "        * 문장 나누기\n",
    "        * 단어 토큰화"
   ]
  },
  {
   "cell_type": "code",
   "execution_count": 5,
   "metadata": {},
   "outputs": [
    {
     "name": "stdout",
     "output_type": "stream",
     "text": [
      "<class 'list'> 3\n",
      "[['The', 'Matrix', 'is', 'everywhere', 'its', 'all', 'around', 'us', ',', 'here', 'even', 'in', 'this', 'room', '.'], ['You', 'can', 'see', 'it', 'out', 'your', 'window', 'or', 'on', 'your', 'television', '.'], ['You', 'feel', 'it', 'when', 'you', 'go', 'to', 'work', ',', 'or', 'go', 'to', 'church', 'or', 'pay', 'your', 'taxes', '.']]\n"
     ]
    }
   ],
   "source": [
    "from nltk import word_tokenize, sent_tokenize\n",
    "\n",
    "# 여러 개의 문장으로 된 입력 데이터를 문장별로 단어 토큰화하게 만드는 함수 생성\n",
    "def tokenize_text(text):\n",
    "    # 문장별로 분리 토큰\n",
    "    sentences = sent_tokenize(text)\n",
    "    # 분리된 문장별 단어 토큰화\n",
    "    word_tokens =[word_tokenize(sentence) for sentence in sentences]\n",
    "    return word_tokens\n",
    "\n",
    "# 여러 문장에 대해 문장별 단어 토큰화 수행.\n",
    "word_tokens = tokenize_text(text_sample)\n",
    "print(type(word_tokens), len(word_tokens))\n",
    "print(word_tokens)\n",
    "        "
   ]
  },
  {
   "cell_type": "markdown",
   "metadata": {},
   "source": [
    "3개의 리스트 객체를 내포하는 리스트 반환  \n",
    "문맥적인 의미는 무시  \n",
    "이러한 문제를 조금이라도 해결해 보고자 도입된것이 n-gram\n"
   ]
  },
  {
   "cell_type": "markdown",
   "metadata": {},
   "source": [
    "### 3. 스톱 워드 제거\n",
    "* 스톱워드(stop word) : 분석에 큰 의미가 없는 단어 ex. is, the, a, will 등\n",
    "* nltk의 경우 stopword 제공"
   ]
  },
  {
   "cell_type": "code",
   "execution_count": 9,
   "metadata": {},
   "outputs": [
    {
     "name": "stderr",
     "output_type": "stream",
     "text": [
      "[nltk_data] Downloading package stopwords to\n",
      "[nltk_data]     C:\\Users\\yanghj\\AppData\\Roaming\\nltk_data...\n",
      "[nltk_data]   Unzipping corpora\\stopwords.zip.\n"
     ]
    },
    {
     "data": {
      "text/plain": [
       "True"
      ]
     },
     "execution_count": 9,
     "metadata": {},
     "output_type": "execute_result"
    }
   ],
   "source": [
    "import nltk\n",
    "nltk.download('stopwords')"
   ]
  },
  {
   "cell_type": "code",
   "execution_count": 6,
   "metadata": {},
   "outputs": [
    {
     "name": "stdout",
     "output_type": "stream",
     "text": [
      "영어 stop words 갯수: 179\n",
      "['i', 'me', 'my', 'myself', 'we', 'our', 'ours', 'ourselves', 'you', \"you're\", \"you've\", \"you'll\", \"you'd\", 'your', 'yours', 'yourself', 'yourselves', 'he', 'him', 'his']\n"
     ]
    }
   ],
   "source": [
    "print('영어 stop words 갯수:',len(nltk.corpus.stopwords.words('english')))\n",
    "print(nltk.corpus.stopwords.words('english')[:20])"
   ]
  },
  {
   "cell_type": "code",
   "execution_count": 11,
   "metadata": {},
   "outputs": [
    {
     "data": {
      "text/plain": [
       "<bound method WordListCorpusReader.words of <WordListCorpusReader in 'C:\\\\Users\\\\yanghj\\\\AppData\\\\Roaming\\\\nltk_data\\\\corpora\\\\stopwords'>>"
      ]
     },
     "execution_count": 11,
     "metadata": {},
     "output_type": "execute_result"
    }
   ],
   "source": [
    "nltk.corpus.stopwords.words"
   ]
  },
  {
   "cell_type": "code",
   "execution_count": 13,
   "metadata": {},
   "outputs": [
    {
     "name": "stdout",
     "output_type": "stream",
     "text": [
      "[['matrix', 'everywhere', 'around', 'us', ',', 'even', 'room', '.'], ['see', 'window', 'television', '.'], ['feel', 'go', 'work', ',', 'go', 'church', 'pay', 'taxes', '.']]\n"
     ]
    }
   ],
   "source": [
    "# stopword를 필터링으로 제거해 분석을 위한 의미있는 단어만 추출\n",
    "import nltk\n",
    "\n",
    "stopwords = nltk.corpus.stopwords.words('english')\n",
    "all_tokens = []\n",
    "# 위 예제의 3개의 문장별로 얻은 word_tokens list 에 대해 stop word 제거 Loop\n",
    "for sentence in word_tokens:\n",
    "    filtered_words=[]\n",
    "    # 개별 문장별로 tokenize된 sentence list에 대해 stop word 제거 Loop    \n",
    "    for word in sentence:\n",
    "        #소문자로 모두 변환합니다. \n",
    "        word = word.lower()\n",
    "        # tokenize 된 개별 word가 stop words 들의 단어에 포함되지 않으면 word_tokens에 추가\n",
    "        if word not in stopwords:\n",
    "            filtered_words.append(word)\n",
    "    all_tokens.append(filtered_words)\n",
    "\n",
    "print(all_tokens)\n",
    "        "
   ]
  },
  {
   "cell_type": "markdown",
   "metadata": {},
   "source": [
    "### 4. Stemming과 Lemmatization\n",
    "* 문법적으로 또는 의미적으로 변화하는 단어의 원형을 찾는 것\n",
    "    * played, plays, playing으로부터 play를 찾는 것\n",
    "\n",
    "#### Stemming (어간추출)\n",
    "* 어간 추출(Stemming)이란 단어로 부터 어간(Stem)을 추출하는 작업\n",
    "    * 형이 변형된 단어로부터 접사 등을 제거하고 그 단어의 어간(활용시 변하지 않는 부분)을 분리해 내는 것을 의미   \n",
    "    * “fishing”, “fished”, “fisher” -> “fish”\n",
    "* 어간 추출은 뒤이어 설명할 표제어 추출보다 성능이 떨어짐 \n",
    "    * 일부 철자가 훼손된 어근 단어를 추출\n",
    "    * 단어를 보고 어림짐작하여 어미를 잘라 어간을 추출\n",
    "* NLTK의 어간 추출 Stemmer : Porter, Lancaster, Snowball Stemmer\n",
    "\n",
    "#### Lemmatization (표제어 추출)\n",
    "* 일반적으로 어간 추출(Stemming)보다 표제어 추출(Lemmatization)이 더 정확히 어근 단어를 찾아줌\n",
    "    * 품사와 같은 문법적인 요소와 더 의미적인 부분을 감안하기 때문\n",
    "* 어간 추출보다 시간이 더 오래 걸림\n",
    "* WordNetLemmatizer를 주로 사용"
   ]
  },
  {
   "cell_type": "markdown",
   "metadata": {},
   "source": [
    "* example1: Stemmer - LancasterStemmer "
   ]
  },
  {
   "cell_type": "code",
   "execution_count": 27,
   "metadata": {},
   "outputs": [
    {
     "name": "stdout",
     "output_type": "stream",
     "text": [
      "work work work\n",
      "amus amus amus\n",
      "happy hppiest\n",
      "fant fanciest\n"
     ]
    }
   ],
   "source": [
    "from nltk.stem import LancasterStemmer\n",
    "stemmer = LancasterStemmer()\n",
    "\n",
    "print(stemmer.stem('working'), stemmer.stem('works'),stemmer.stem('worked')) # 단순변화 재대로 인식\n",
    "print(stemmer.stem('amusing'), stemmer.stem('amuses'),stemmer.stem('amused')) # amuse가 아닌 amus를 원형 단어로 인식\n",
    "print(stemmer.stem('happier'), stemmer.stem('hppiest')) # 정확한 원형 찾지 못함\n",
    "print(stemmer.stem('fancier'), stemmer.stem('fanciest'))"
   ]
  },
  {
   "cell_type": "markdown",
   "metadata": {},
   "source": [
    "* example2: Stemmer - Porter "
   ]
  },
  {
   "cell_type": "code",
   "execution_count": 29,
   "metadata": {},
   "outputs": [
    {
     "name": "stdout",
     "output_type": "stream",
     "text": [
      "work work work\n",
      "amus amus amus\n",
      "happier happiest\n",
      "fancier fanciest\n"
     ]
    }
   ],
   "source": [
    "from nltk.stem import PorterStemmer\n",
    "stemmer = PorterStemmer()\n",
    "\n",
    "print(stemmer.stem('working'),stemmer.stem('works'),stemmer.stem('worked'))\n",
    "print(stemmer.stem('amusing'),stemmer.stem('amuses'),stemmer.stem('amused'))\n",
    "print(stemmer.stem('happier'),stemmer.stem('happiest'))\n",
    "print(stemmer.stem('fancier'),stemmer.stem('fanciest'))"
   ]
  },
  {
   "cell_type": "markdown",
   "metadata": {},
   "source": [
    "* example3: Lemmatization - WordNetLemmatizer\n",
    "    * lemmatize() : 동사의 경우'v', 형용사의 경우'a'를 파라미터로 입력"
   ]
  },
  {
   "cell_type": "code",
   "execution_count": 17,
   "metadata": {},
   "outputs": [],
   "source": [
    "from nltk.stem import WordNetLemmatizer\n",
    "import nltk\n",
    "nltk.download('wordnet')"
   ]
  },
  {
   "cell_type": "code",
   "execution_count": 57,
   "metadata": {},
   "outputs": [
    {
     "name": "stdout",
     "output_type": "stream",
     "text": [
      "amusing amuses amused\n",
      "happier happiest\n",
      "fancier fanciest\n"
     ]
    }
   ],
   "source": [
    "# 품사를 넣지 않으면 성능이 좋지 않음\n",
    "lemma = WordNetLemmatizer()\n",
    "print(lemma.lemmatize('amusing'),lemma.lemmatize('amuses'),lemma.lemmatize('amused'))\n",
    "print(lemma.lemmatize('happier'),lemma.lemmatize('happiest'))\n",
    "print(lemma.lemmatize('fancier'),lemma.lemmatize('fanciest'))"
   ]
  },
  {
   "cell_type": "code",
   "execution_count": 31,
   "metadata": {},
   "outputs": [
    {
     "name": "stdout",
     "output_type": "stream",
     "text": [
      "amuse amuse amuse\n",
      "happy happy\n",
      "fancy fancy\n"
     ]
    }
   ],
   "source": [
    "# 품사를 넣으면 정확하게 추출\n",
    "lemma = WordNetLemmatizer()\n",
    "print(lemma.lemmatize('amusing','v'), lemma.lemmatize('amuses','v'), lemma.lemmatize('amused','v'))\n",
    "print(lemma.lemmatize('happier','a'), lemma.lemmatize('happiest','a'))\n",
    "print(lemma.lemmatize('fancier','a'), lemma.lemmatize('fanciest','a'))"
   ]
  },
  {
   "cell_type": "markdown",
   "metadata": {},
   "source": [
    "# Bag of Words - BOW\n",
    "* Bag of Words 모델은 문서가 가지는 모든 단어(Words)를 문맥이나 순서를 무시하고 일괄적으로 단어에 대해 빈도값을 부여해 피처값을 추출하는 모델\n",
    "<img src='https://img1.daumcdn.net/thumb/R1280x0/?scode=mtistory2&fname=https%3A%2F%2Fblog.kakaocdn.net%2Fdn%2FdtZVjn%2FbtqEli3Fqr1%2FB0MS7e08uWBTULZOrCsl5k%2Fimg.png'>\n",
    "* 문서 내 모든 단어를 한꺼번에 가방(Bag) 안에 넣은 뒤에 흔들어서 섞는다는 의미로 Bag of Words(BOW) 모델"
   ]
  },
  {
   "cell_type": "markdown",
   "metadata": {},
   "source": [
    "## BOW 기반으로 피처 추출\n",
    "* 다음과 같은 두 문장이 있다고 가정하고 이 문장을 BOW의 단어 수(word count) 기반으로 피처 추출\n",
    "    * 문장1: 'My wife likes to watch baseball games and my daughter likes to watch baseball games too'\n",
    "    * 문장2: 'My wife likes to play baseball'\n",
    "\n",
    "1) 문장1과 문장 2에 있는 모든 단어에서 중복을 제거하고 각 단어를 칼럼 형태로 나열. 그런 다음 각 단어에 고유의 인덱스를 다음과 같이 부여\n",
    "\n",
    "'and':0, 'baseball':1, 'daughter':2, 'games':3, 'likes':4, 'my':5, 'play':6, 'to':7, 'too':8, 'watch':9, 'wife':10\n",
    "\n",
    "2) 개별 문장에서 해당 단어가 나타나는 횟수(frequency)를 각 단어(단어 인덱스)에 기재\n",
    "\n",
    "|index|0|1|2|3|4|5|6|7|8|9|10|\n",
    "|:---|:---|:---|:---|:---|:---|:---|:---|:---|:---|:---|:---|\n",
    "|and|baseball|daughter|games|likes|my|play|to|too|watch|wife|\n",
    "|문장1|1|2|1|2|2|2|0|2|1|2|1|\n",
    "|문장2|0|1|0|0|1|1|1|1|0|0|1|\n",
    "\n",
    "* BOW 기반으로 피처를 만드는 것은 문서 내의 단어(더 정확히 말하면 토큰)를 숫자형 데이터로 바꾸는 것"
   ]
  },
  {
   "cell_type": "markdown",
   "metadata": {},
   "source": [
    "## BOW 모델 장/단점\n",
    "* 장점\n",
    "    * 쉽고 빠른 구축\n",
    "    * 단어의 발생 횟수에 기반하지만 문서의 특징을 잘 나타낼 수 있음\n",
    "* 단점\n",
    "    * 문맥 의미 반영 부족\n",
    "        * BOW는 단어 순서를 고려하지 않기때문에 단어의 문맥적인 의미 무시 (보완을 위해 n_gram 기법활용하지만 제한적)\n",
    "    * 희소 행렬 문제발생( 희소성, 희소 행렬 )\n",
    "        * 희소행렬 : 대규모의 컬럼으로 구성된 행렬에서 대부분의 값이 0으로 채워지는 행렬\n",
    "        * 밀집행렬 : 대부분의 값이 0이 아닌 의미있는 값으로 채워져 있는 행렬\n",
    "        * 매우 많은 문서에서 단어의 총 개수는 수만~수십만개가 될 수 있는데, 하나의 문서에 있는 단어는 이 중 극히 일부분 이므로 대부분 데이터는 0으로 채워짐\n"
   ]
  },
  {
   "cell_type": "markdown",
   "metadata": {},
   "source": [
    "## BOW 피처 벡터화\n",
    "* 피처 벡터화 : 텍스트는 특정 의미를 가지는 숫자형 값인 벡터값으로 변환\n",
    "* BOW 모델에서 피처 벡터화를 한다는 것은 모든 문서에서 모든 단어를 칼럼 형태로 나열하고 해당 단어에 빈도 값을 부여하는 것을 뜻함\n",
    "* 피처 벡터화는 기존 텍스트 데이터를 또 다른 형태의 피처의 조합으로 변경하기 때문에 피처 추출에 포함\n",
    "<img src='https://media.vlpt.us/images/yepark/post/098d4d7d-3b1c-454d-9f9e-f442c0d34987/%ED%94%BC%EC%B2%98%EB%B2%A1%ED%84%B0.PNG'>"
   ]
  },
  {
   "cell_type": "markdown",
   "metadata": {},
   "source": [
    "# BOW의 픽처 벡터화 방식 : 카운트 기반의 벡터화 / TF-IDF 기반의 벡터화\n",
    "### 카운트 기반의 벡터화\n",
    "* 단어 피처에 값을 부여할 때 각 문서에서 해당 단어가 나타나는 횟수를 부여하는 경우\n",
    "* 카운트가 높을수록 중요단어로 인식\n",
    "* 카운트만 부여할 경우 문서의 특징을 나타내기 보다는 언어의 특성상 문장에서 자주 사용될 수 밖에 없는 단어까지 높은 값을 부여(is. the 등)\n",
    "* 사이킷런의 CountVectorizer 클래스는 카운트 기반의 벡터화를 구현한 클래스\n",
    "    * 단지 피처 벡터화만을 수행하지는 않고 소문자 일괄변환, 토큰화, 스톱워드 필터링 등의 텍스트 전처리도 함께 수행\n",
    "    * CountVectorizer() 파라미터\n",
    "        * max_df: 높은 빈도수를 가지는 단어 제외(0.95 이면 상위 5% 제외)\n",
    "        * min_df: 낮은 빈도수를 가지는 단어 제외(0.02이면 하위 2% 제외)\n",
    "        * max_features: 추출하는 피처의 개수(높은 빈도순, 정수로 값 지정)\n",
    "        * stop_words: 불용어 제외\n",
    "        * n_gram_range: 단어 순서 보강하기 위한 옵션(범위 최솟값, 범위 최댓값)\n",
    "        * analyzer: 피처 추출을 수행한 단위(dafault='word')\n",
    "        * token_pattern: 토큰화를 수행하는 정규 표현식 패턴 지정(default='\\b\\w\\w+\\b')\n",
    "        * tokenizer: 토큰화를 별도의 커스텀 함수로 이용시 적용"
   ]
  },
  {
   "cell_type": "code",
   "execution_count": 36,
   "metadata": {},
   "outputs": [
    {
     "name": "stdout",
     "output_type": "stream",
     "text": [
      "[[1 1 2 1 2 1]]\n",
      "{'you': 4, 'know': 1, 'want': 3, 'your': 5, 'love': 2, 'because': 0}\n"
     ]
    }
   ],
   "source": [
    "# CountVectorizer로 BOW 만들기\n",
    "\n",
    "from sklearn.feature_extraction.text import CountVectorizer\n",
    "corpus = ['you know I want your love. because I love you.']\n",
    "vector = CountVectorizer()\n",
    "print(vector.fit_transform(corpus).toarray()) # 코퍼스로부터 각 단어의 빈도 수를 기록한다.\n",
    "print(vector.vocabulary_) # 각 단어의 인덱스가 어떻게 부여되었는지를 보여준다."
   ]
  },
  {
   "cell_type": "markdown",
   "metadata": {},
   "source": [
    "you와 love는 두 번씩 있으므로 인덱스 2와 인덱스 4는 2의 값  => you와 love를 중요한 단어로 인식.   \n",
    "CountVectorizer는 기본적으로 2자리 이상의 문자에 대해서만 토큰으로 인식하기 때문에 I는 없어짐"
   ]
  },
  {
   "cell_type": "code",
   "execution_count": 37,
   "metadata": {},
   "outputs": [
    {
     "name": "stdout",
     "output_type": "stream",
     "text": [
      "[[1 1 1 1 1]]\n",
      "{'family': 1, 'important': 2, 'thing': 4, 'it': 3, 'everything': 0}\n"
     ]
    }
   ],
   "source": [
    "# 불용어(Stop words)를 제거한 BOW 만들기\n",
    "\n",
    "from sklearn.feature_extraction.text import CountVectorizer\n",
    "\n",
    "text=[\"Family is not an important thing. It's everything.\"]\n",
    "vect = CountVectorizer(stop_words=[\"the\", \"a\", \"an\", \"is\", \"not\"]) # (stop_words=\"english\") 이렇게도 가능\n",
    "print(vect.fit_transform(text).toarray()) \n",
    "print(vect.vocabulary_)"
   ]
  },
  {
   "cell_type": "markdown",
   "metadata": {},
   "source": [
    "\n",
    "### TF-IDF(Term Frequency Inverse Document Frequency) 벡터화\n",
    "* 개별 문서에서 자주 나타나는 단어에 높은 가중치를 주되 모든 문서에서 전반적으로 자주 나타나는 단어에 대해서 페널티 주는 방식으로 값 부여  \n",
    "* 단순히 단어의 빈도만 고려한다면 모든 문서에서 자주 쓰일 수밖에 없는 단어들이 (불용어 등) 중요하다고 인식\n",
    "* example\n",
    "    * '분쟁', '종교 대립' 자주 사용됨 -> 지역 분쟁과 관련된 문서 -> 가중치 부여\n",
    "    * '많은', '당연히', '업무' -> 보편적으로 많이 사용되어 문서의 특징과 관련있다고 보기 어려움 -> 패널티 부여\n",
    "    * 카운트 기반의 벡터화 보완\n",
    "* TF-IDF 공식\n",
    "$$ TFIDF_i = TF_i * log\\frac{N}{DF_i}$$\n",
    "$$TF_i: 개별 문서에서의 단어 i 빈도 $$ \n",
    "$$DF_i: 단어 i를 가지고 있는 문서의 개수$$\n",
    "$$N: 전체 문서의 개수 $$\n",
    "* i 특정 단어 i를 포함하는 문서가 많다는 것은 i가 보편적으로 사용되는 단어라는 뜻이고, 이는 i가 실질적으로 중요한 단어가 아니라는 뜻\n",
    "* log(N/df_i) 값이 작아지며 페널티가 적용"
   ]
  },
  {
   "cell_type": "code",
   "execution_count": 39,
   "metadata": {},
   "outputs": [
    {
     "name": "stdout",
     "output_type": "stream",
     "text": [
      "[[0.         0.46735098 0.         0.46735098 0.         0.46735098\n",
      "  0.         0.35543247 0.46735098]\n",
      " [0.         0.         0.79596054 0.         0.         0.\n",
      "  0.         0.60534851 0.        ]\n",
      " [0.57735027 0.         0.         0.         0.57735027 0.\n",
      "  0.57735027 0.         0.        ]]\n",
      "{'you': 7, 'know': 1, 'want': 5, 'your': 8, 'love': 3, 'like': 2, 'what': 6, 'should': 4, 'do': 0}\n"
     ]
    }
   ],
   "source": [
    "# TF-IDF BOW 만들기\n",
    "\n",
    "from sklearn.feature_extraction.text import TfidfVectorizer\n",
    "corpus = [\n",
    "    'you know I want your love',\n",
    "    'I like you',\n",
    "    'what should I do ',    \n",
    "]\n",
    "tfidfv = TfidfVectorizer().fit(corpus)\n",
    "print(tfidfv.transform(corpus).toarray())\n",
    "print(tfidfv.vocabulary_)"
   ]
  },
  {
   "cell_type": "code",
   "execution_count": 40,
   "metadata": {},
   "outputs": [
    {
     "name": "stdout",
     "output_type": "stream",
     "text": [
      "[[0 1 0 1 0 1 0 1 1]\n",
      " [0 0 1 0 0 0 0 1 0]\n",
      " [1 0 0 0 1 0 1 0 0]]\n",
      "{'you': 7, 'know': 1, 'want': 5, 'your': 8, 'love': 3, 'like': 2, 'what': 6, 'should': 4, 'do': 0}\n"
     ]
    }
   ],
   "source": [
    "# CountVectorizer로 BOW 만들어 비교\n",
    "from sklearn.feature_extraction.text import CountVectorizer\n",
    "corpus = [\n",
    "    'you know I want your love',\n",
    "    'I like you',\n",
    "    'what should I do ',    \n",
    "]\n",
    "cv = CountVectorizer().fit(corpus)\n",
    "print(cv.transform(corpus).toarray())\n",
    "print(cv.vocabulary_)"
   ]
  },
  {
   "cell_type": "markdown",
   "metadata": {},
   "source": [
    "* 카운트 기반 벡터화인 CountVectorizer는 단순히 빈도를 기반으로 표현을 해주지만, TF-IDF 벡터화는 다른 문장에서의 단어 빈도도 고려하여 해당 단어의 중요도를 표현\n",
    "* 따라서 CountVectorizer보다는 TF-IDF를 일반적으로 더 많이 사용"
   ]
  },
  {
   "cell_type": "markdown",
   "metadata": {},
   "source": [
    "# BOW 벡터화를 위한 희소 행렬\n",
    "* 모든 문서에 포함된 모든 고유 단어를 피처로 만들어주기 때문에 CountVectorizer, TfidfVectorizer를 이용해 피처 벡터화를 하면 상당히 많은 칼럼이 생성\n",
    "* 이렇게 대규모의 행렬이 생기더라도 각 문서에 포함된 단어의 수는 제한적이기 때문에 행렬의 대부분의 값은 0으로 채워짐\n",
    "* 대부분 값이 0으로 채워진 행렬 : 희소 행렬(Sparse Matrix)\n",
    "* BOW 형태를 가진 언어 모델의 피처 벡터화는 대부분 희소 행렬\n",
    "\n",
    "# 희소 행렬\n",
    "<img src='https://img1.daumcdn.net/thumb/R1280x0/?scode=mtistory2&fname=https%3A%2F%2Fblog.kakaocdn.net%2Fdn%2FcFkDRL%2FbtqBUAYOqiE%2FMTeuu3LmXbaHeKce26OXz1%2Fimg.png'>\n",
    "\n",
    "* 대부분 값이 0으로 채워진 행렬\n",
    "* 불필요한 0값이 메모리 공간에 많이 할당되어 메모리 공간이 많이 필요\n",
    "* 행렬의 크기가 커서 연산시에도 데이터 엑세스를 위한 시간이 많이 소모\n",
    "\n",
    "=> 물리적으로 적은 메모리 공간을 차지할 수 있도록 변환하는 방법 : COO, CRS 형식 (큰 희소행렬을 저장하고 계산을 수행하는 능력이 CRS 형식이 더 뛰어남)"
   ]
  },
  {
   "cell_type": "markdown",
   "metadata": {},
   "source": [
    "## 희소 행렬 - COO(Coordinate:좌표)형식\n",
    "* 0이 아닌 데이터만 별도의 데이터 배열에 저장하고 그 데이터가 가리키는 행과 열의 위치를 별도의 배열로 저장하는 방식  \n",
    "* 다음과 같은 2차원 데이터가 있다고 가정  \n",
    "3\t0\t1  \n",
    "0\t2\t0  \n",
    "    * 0이 아닌 데이터 : [3, 1, 2]\n",
    "    * 0이 아닌 데이터가 있는 위치 표시(row, col) : (0,0), (0,2), (1,1)\n",
    "    * row, col 별도의 배열로 저장 : row-[0,0,1], col-[0,2,1]\n",
    "    * 희소 행렬 변환을 위해 주로 사이파이(Scipy) 이용"
   ]
  },
  {
   "cell_type": "code",
   "execution_count": 43,
   "metadata": {},
   "outputs": [
    {
     "data": {
      "text/plain": [
       "array([[3, 0, 1],\n",
       "       [0, 2, 0]])"
      ]
     },
     "execution_count": 43,
     "metadata": {},
     "output_type": "execute_result"
    }
   ],
   "source": [
    "import numpy as np\n",
    "\n",
    "dense = np.array([[3,0,1],[0,2,0]])\n",
    "dense"
   ]
  },
  {
   "cell_type": "code",
   "execution_count": 48,
   "metadata": {},
   "outputs": [
    {
     "data": {
      "text/plain": [
       "array([[3, 0, 1],\n",
       "       [0, 2, 0]])"
      ]
     },
     "execution_count": 48,
     "metadata": {},
     "output_type": "execute_result"
    }
   ],
   "source": [
    "from scipy import sparse\n",
    "\n",
    "# 0이 아닌 데이터 추출\n",
    "data = np.array([3,1,2])\n",
    "\n",
    "# 행 위치와 열 위치를 각각 배열로 생성\n",
    "row_pos = np.array([0,0,1])\n",
    "col_pos = np.array([0,2,1])\n",
    "\n",
    "# sparse 패키지의 coo_matrix를 이용해 COO 형식으로 희소 행렬 생성\n",
    "sparse_coo = sparse.coo_matrix((data,(row_pos,col_pos)))\n",
    "\n",
    "sparse_coo.toarray()\n",
    "\n",
    "# 이렇게 원래의 데이터로 추출"
   ]
  },
  {
   "cell_type": "markdown",
   "metadata": {},
   "source": [
    "## 희소 행렬 - CSR 형식\n",
    "* CSR(Compress Sparse Row)형식은 COO 형식이 행과 열의 위치를 나타내기 위해서 반복적인 위치 데이터를 사용해야하는 문제점을 해결한 방식\n",
    "<img src='https://media.vlpt.us/images/yepark/post/1dc10411-882f-4bfd-85de-44102c719466/csr.PNG'>"
   ]
  },
  {
   "cell_type": "markdown",
   "metadata": {},
   "source": [
    "* 행 위치 배열 [0,0,1,1,1,1,1,2,2,3,4,4,5] 순차적인 같은 값이 반복적으로 나타남 "
   ]
  },
  {
   "cell_type": "markdown",
   "metadata": {},
   "source": [
    "<img src='https://media.vlpt.us/images/yepark/post/2e06447b-1216-4990-aa1e-60982e1f5709/csr3.PNG'>\n",
    "\n",
    "* 고유한 값의 시작 위치만 표기하는 방법으로 반복 제거\n",
    "* 행 위치 배열 내에 있는 고유한 값의 시작 위치만 알고 있으면 다시 별도의 배열로 가지는 변환 방식, 맨 마지막에는 데이터의 총 항목개수 배열에 추가\n",
    "* CSR 변환 배열 [0,2,7,9,10,12,13]\n",
    "* 고유 값의 시작 위치만 알고 있으면 얼마든지 행 위치 배열을 다시 만들수 있기에 COO방식보다 메모리가 적게 들고 빠른 연산 가능"
   ]
  },
  {
   "cell_type": "code",
   "execution_count": 50,
   "metadata": {},
   "outputs": [
    {
     "name": "stdout",
     "output_type": "stream",
     "text": [
      "COO 변환된 데이터가 제대로 되었는지 다시 Dense로 출력 확인\n",
      "[[0 0 1 0 0 5]\n",
      " [1 4 0 3 2 5]\n",
      " [0 6 0 3 0 0]\n",
      " [2 0 0 0 0 0]\n",
      " [0 0 0 7 0 8]\n",
      " [1 0 0 0 0 0]]\n",
      "CSR 변환된 데이터가 제대로 되었는지 다시 Dense로 출력 확인\n",
      "[[0 0 1 0 0 5]\n",
      " [1 4 0 3 2 5]\n",
      " [0 6 0 3 0 0]\n",
      " [2 0 0 0 0 0]\n",
      " [0 0 0 7 0 8]\n",
      " [1 0 0 0 0 0]]\n"
     ]
    }
   ],
   "source": [
    "from scipy import sparse\n",
    "\n",
    "dense2 = np.array([[0,0,1,0,0,5],\n",
    "             [1,4,0,3,2,5],\n",
    "             [0,6,0,3,0,0],\n",
    "             [2,0,0,0,0,0],\n",
    "             [0,0,0,7,0,8],\n",
    "             [1,0,0,0,0,0]])\n",
    "\n",
    "# 0 이 아닌 데이터 추출\n",
    "data2 = np.array([1, 5, 1, 4, 3, 2, 5, 6, 3, 2, 7, 8, 1])\n",
    "\n",
    "# 행 위치와 열 위치를 각각 array로 생성 \n",
    "row_pos = np.array([0, 0, 1, 1, 1, 1, 1, 2, 2, 3, 4, 4, 5])\n",
    "col_pos = np.array([2, 5, 0, 1, 3, 4, 5, 1, 3, 0, 3, 5, 0])\n",
    "\n",
    "# COO 형식으로 변환 \n",
    "sparse_coo = sparse.coo_matrix((data2, (row_pos,col_pos)))\n",
    "\n",
    "# 행 위치 배열의 고유한 값들의 시작 위치 인덱스를 배열로 생성\n",
    "row_pos_ind = np.array([0, 2, 7, 9, 10, 12, 13])\n",
    "\n",
    "# CSR 형식으로 변환 \n",
    "sparse_csr = sparse.csr_matrix((data2, col_pos, row_pos_ind))\n",
    "\n",
    "print('COO 변환된 데이터가 제대로 되었는지 다시 Dense로 출력 확인')\n",
    "print(sparse_coo.toarray())\n",
    "print('CSR 변환된 데이터가 제대로 되었는지 다시 Dense로 출력 확인')\n",
    "print(sparse_csr.toarray())"
   ]
  },
  {
   "cell_type": "code",
   "execution_count": 52,
   "metadata": {},
   "outputs": [],
   "source": [
    "# 실제 사용시에는 다음과 같이 희소행렬을 파라미터로 입력\n",
    "dense3 = np.array([[0,0,1,0,0,5],\n",
    "             [1,4,0,3,2,5],\n",
    "             [0,6,0,3,0,0],\n",
    "             [2,0,0,0,0,0],\n",
    "             [0,0,0,7,0,8],\n",
    "             [1,0,0,0,0,0]])\n",
    "\n",
    "coo = sparse.coo_matrix(dense3)\n",
    "csr = sparse.csr_matrix(dense3)"
   ]
  },
  {
   "cell_type": "code",
   "execution_count": 53,
   "metadata": {},
   "outputs": [
    {
     "name": "stdout",
     "output_type": "stream",
     "text": [
      "  (0, 2)\t1\n",
      "  (0, 5)\t5\n",
      "  (1, 0)\t1\n",
      "  (1, 1)\t4\n",
      "  (1, 3)\t3\n",
      "  (1, 4)\t2\n",
      "  (1, 5)\t5\n",
      "  (2, 1)\t6\n",
      "  (2, 3)\t3\n",
      "  (3, 0)\t2\n",
      "  (4, 3)\t7\n",
      "  (4, 5)\t8\n",
      "  (5, 0)\t1\n"
     ]
    }
   ],
   "source": [
    "print(coo)"
   ]
  },
  {
   "cell_type": "code",
   "execution_count": 54,
   "metadata": {},
   "outputs": [
    {
     "name": "stdout",
     "output_type": "stream",
     "text": [
      "  (0, 2)\t1\n",
      "  (0, 5)\t5\n",
      "  (1, 0)\t1\n",
      "  (1, 1)\t4\n",
      "  (1, 3)\t3\n",
      "  (1, 4)\t2\n",
      "  (1, 5)\t5\n",
      "  (2, 1)\t6\n",
      "  (2, 3)\t3\n",
      "  (3, 0)\t2\n",
      "  (4, 3)\t7\n",
      "  (4, 5)\t8\n",
      "  (5, 0)\t1\n"
     ]
    }
   ],
   "source": [
    "print(csr)"
   ]
  },
  {
   "cell_type": "code",
   "execution_count": 55,
   "metadata": {},
   "outputs": [
    {
     "data": {
      "text/plain": [
       "array([[0, 0, 1, 0, 0, 5],\n",
       "       [1, 4, 0, 3, 2, 5],\n",
       "       [0, 6, 0, 3, 0, 0],\n",
       "       [2, 0, 0, 0, 0, 0],\n",
       "       [0, 0, 0, 7, 0, 8],\n",
       "       [1, 0, 0, 0, 0, 0]])"
      ]
     },
     "execution_count": 55,
     "metadata": {},
     "output_type": "execute_result"
    }
   ],
   "source": [
    "coo.toarray()"
   ]
  },
  {
   "cell_type": "code",
   "execution_count": 56,
   "metadata": {},
   "outputs": [
    {
     "data": {
      "text/plain": [
       "array([[0, 0, 1, 0, 0, 5],\n",
       "       [1, 4, 0, 3, 2, 5],\n",
       "       [0, 6, 0, 3, 0, 0],\n",
       "       [2, 0, 0, 0, 0, 0],\n",
       "       [0, 0, 0, 7, 0, 8],\n",
       "       [1, 0, 0, 0, 0, 0]], dtype=int32)"
      ]
     },
     "execution_count": 56,
     "metadata": {},
     "output_type": "execute_result"
    }
   ],
   "source": [
    "csr.toarray()"
   ]
  },
  {
   "cell_type": "code",
   "execution_count": null,
   "metadata": {},
   "outputs": [],
   "source": []
  }
 ],
 "metadata": {
  "kernelspec": {
   "display_name": "Python 3",
   "language": "python",
   "name": "python3"
  },
  "language_info": {
   "codemirror_mode": {
    "name": "ipython",
    "version": 3
   },
   "file_extension": ".py",
   "mimetype": "text/x-python",
   "name": "python",
   "nbconvert_exporter": "python",
   "pygments_lexer": "ipython3",
   "version": "3.8.5"
  }
 },
 "nbformat": 4,
 "nbformat_minor": 4
}
