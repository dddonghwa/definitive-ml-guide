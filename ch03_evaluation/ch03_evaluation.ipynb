{
 "cells": [
  {
   "cell_type": "markdown",
   "metadata": {},
   "source": [
    "# Chapter 03 | 평가\n",
    "이 챕터에서 사용된 sklearn 모듈과 메서드 정리"
   ]
  },
  {
   "cell_type": "code",
   "execution_count": 1,
   "metadata": {},
   "outputs": [],
   "source": [
    "# 데이터 셋 로드\n",
    "from sklearn.datasets import load_digits\n",
    "\n",
    "# 전처리\n",
    "from sklearn.preprocessing import LabelEncoder\n",
    "from sklearn.preprocessing import Binarizer\n",
    "\n",
    "# ???\n",
    "from sklearn.base import BaseEstimator\n",
    "from sklearn.model_selection import train_test_split\n",
    "\n",
    "# 모델 종류\n",
    "from sklearn.tree import DecisionTreeClassifier\n",
    "from sklearn.ensemble import RandomForestClassifier\n",
    "from sklearn.linear_model import LogisticRegression, LinearRegression\n",
    "\n",
    "# 모델 평가\n",
    "from sklearn.metrics import accuracy_score\n",
    "from sklearn.metrics import confusion_matrix\n",
    "from sklearn.metrics import precision_score, recall_score\n",
    "from sklearn.metrics import precision_recall_curve\n",
    "from sklearn.metrics import f1_score\n",
    "\n"
   ]
  },
  {
   "cell_type": "code",
   "execution_count": 2,
   "metadata": {},
   "outputs": [],
   "source": [
    "import warnings\n",
    "warnings.filterwarnings(action='ignore')"
   ]
  },
  {
   "cell_type": "markdown",
   "metadata": {},
   "source": [
    "## 01. 정확도 accuracy\n",
    "\n",
    "$정확도 = \\frac{예측 결과가 동일한 데이터 건수}{전체 예측 데이터 건수}$\n",
    "\n",
    "### 분류 모델의 성능 평가 지표로 '정확도'를 사용할 때 신중해야하는 이유\n",
    "- titanic 예제에서 성별에 따라 1,0으로 예측하는 간단한 모델도 테스트 데이터의 구성에 따라서 높은 정확도를 가질 수 있다. *(아래의 예제1)*\n",
    "- 정확도는 <U>불균형한 레이블 분포</U>에서 모델의 성능을 판단할 경우 적합한 평가 지표가 아니다.\n",
    "    - 예를 들어 100개의 데이터 중에 90개의 데이터 레이블이 0, 10개의 데이터 레이블이 1일 경우, 무조건 0으로 결과를 예측하는 모델이라도 정확도가 90%가 나온다. *(MNIST 예제2)*\n",
    "\n",
    "#### 예제1. 성별에 따라 1,0으로 예측하는 모델\n",
    "- BaseEstimator 클래스를 상속받아 성별에 따라 생존자를 예측하는 단순한 Classifier을 생성\n",
    "- 사이킷런에서 BaseEstimator를 상속받으면 사용자 정의된(Customized) 형태의 Estimator 생성 가능\n",
    "- 생성할 MyDummyClassifier 클래스에서 학습을 수행하는 fit 메서드는 아무것도 수행하지 않으며, 예측을 수행하는 predict() 메서는 단순히 Sex 피처가 1이면 0, 그렇지 않으면 1로 예측하는 매우 단순한 Classifier\n",
    "\n",
    "#### Q. BaseEsitmator가 무엇인지 궁금하다!\n",
    "A. sklearn에서 fit과 predict를 포함한 메서드들을 정의한 모듈인 것 같다! "
   ]
  },
  {
   "cell_type": "code",
   "execution_count": 3,
   "metadata": {},
   "outputs": [],
   "source": [
    "import numpy as np"
   ]
  },
  {
   "cell_type": "code",
   "execution_count": 4,
   "metadata": {},
   "outputs": [],
   "source": [
    "from sklearn.base import BaseEstimator\n",
    "\n",
    "class MyDummyClassifier(BaseEstimator):\n",
    "    def fit(self, X, y=None):\n",
    "        pass\n",
    "    \n",
    "    def predict(self, X):\n",
    "        pred = np.zeros((X.shape[0],1))\n",
    "        for i in range(X.shape[0]):\n",
    "            if X['Sex'].iloc[i]==1 :\n",
    "                pred[i] == 0\n",
    "            else :\n",
    "                pred[i] == 1\n",
    "                \n",
    "        return pred"
   ]
  },
  {
   "cell_type": "code",
   "execution_count": 5,
   "metadata": {},
   "outputs": [],
   "source": [
    "# 전처리 과정 함수로 만들기 *ch01-02_sklearn.ipynb*\n",
    "from sklearn.preprocessing import LabelEncoder\n",
    "\n",
    "# 결측치처리\n",
    "def fillna(df):\n",
    "    df['Age'].fillna(df[\"Age\"].mean(), inplace=True) # Age 평균값 넣어주기\n",
    "    df['Cabin'].fillna('N', inplace=True)\n",
    "    df['Embarked'].fillna(\"N\", inplace=True)\n",
    "    df['Fare'].fillna(0, inplace=True)\n",
    "    return df\n",
    "\n",
    "# 필요 없는 열 삭제 - PassengerId, Name, Ticket\n",
    "def drop_features(df):\n",
    "    df.drop(['PassengerId',\"Name\", \"Ticket\"], axis=1, inplace=True)\n",
    "    return df\n",
    "\n",
    "# 라벨인코딩 - Cabin, Sex, Embarked \n",
    "def format_features(df):\n",
    "    df['Cabin'] = df['Cabin'].str[:1]\n",
    "    \n",
    "    features = ['Cabin', \"Sex\",'Embarked']\n",
    "    for feature in features :\n",
    "        encoder = LabelEncoder()\n",
    "        encoder.fit(df[feature])\n",
    "        df[feature] = encoder.transform(df[feature])\n",
    "        \n",
    "#         print(feature)\n",
    "#         print(encoder.classes_)\n",
    "#         print(encoder.transform(encoder.classes_))\n",
    "#         print()\n",
    "        \n",
    "    return df\n",
    "\n",
    "# 전처리 진행\n",
    "def transform_features(df):\n",
    "    df = fillna(df)\n",
    "    df = drop_features(df)\n",
    "    df = format_features(df)\n",
    "    \n",
    "    return df\n"
   ]
  },
  {
   "cell_type": "code",
   "execution_count": 6,
   "metadata": {},
   "outputs": [
    {
     "data": {
      "text/plain": [
       "0.6145251396648045"
      ]
     },
     "execution_count": 6,
     "metadata": {},
     "output_type": "execute_result"
    }
   ],
   "source": [
    "import pandas as pd\n",
    "from sklearn.model_selection import train_test_split\n",
    "from sklearn.metrics import accuracy_score\n",
    "\n",
    "tt_df = pd.read_csv(\"./titanic_train.csv\")\n",
    "\n",
    "y_tt_df = tt_df['Survived']\n",
    "X_tt_df = tt_df.drop('Survived', axis=1)\n",
    "X_tt_df = transform_features(X_tt_df)\n",
    "X_train, X_test, y_train, y_test = train_test_split(X_tt_df, y_tt_df, test_size=0.2, random_state=0)\n",
    "\n",
    "myclf = MyDummyClassifier()\n",
    "myclf.fit(X_train, y_train)\n",
    "mypred = myclf.predict(X_test)\n",
    "accuracy_score(y_test, mypred)"
   ]
  },
  {
   "cell_type": "markdown",
   "metadata": {},
   "source": [
    "#### 예제 2. MNIST\n",
    "- 0~9까지 숫자 이미지의 픽셀 정보를 기반으로 숫자를 예측\n",
    "- load_digits API를 이용해서 데이터셋 불러옴\n",
    "- 원래 MNIST는 레이블 값이 0부터 9까지 있는 멀티 레이블 분류를 위한 것이지만, 이번 예제에서는 레이블이 7인 것만 True, 나머지 값은 모두 False 로 변환해 이진 분류 문제로 변형\n",
    "- 즉, 전체 데이터의 10%만 True, 90%는 False인 불균형한 데이터 세트로 변경\n"
   ]
  },
  {
   "cell_type": "code",
   "execution_count": 7,
   "metadata": {},
   "outputs": [],
   "source": [
    "from sklearn.datasets import load_digits\n",
    "from sklearn.model_selection import train_test_split\n",
    "from sklearn.base import BaseEstimator\n",
    "from sklearn.metrics import accuracy_score\n",
    "import numpy as np\n",
    "import pandas as pd\n",
    "\n",
    "class MyFakeClassifier(BaseEstimator):\n",
    "    def fit(self, x, y):\n",
    "        pass\n",
    "    \n",
    "    def predict(self, X):\n",
    "        return np.zeros((len(X),1), dtype=bool)\n",
    "    \n",
    "# 데이터 로드    \n",
    "digits = load_digits()\n",
    "\n",
    "# .target : 레이블 데이터\n",
    "# len(digits.target)\n",
    "\n",
    "# 레이블 = 7인 것만 True(1), 나머지는 False(0)으로 만드는 과정 → 이진 분류 문제\n",
    "y = (digits.target == 7).astype(int)\n",
    "X_train, X_test, y_train, y_test = train_test_split(digits.data, y, test_size=0.2, random_state=11 )\n"
   ]
  },
  {
   "cell_type": "code",
   "execution_count": 8,
   "metadata": {},
   "outputs": [
    {
     "data": {
      "text/plain": [
       "0    324\n",
       "1     36\n",
       "dtype: int64"
      ]
     },
     "execution_count": 8,
     "metadata": {},
     "output_type": "execute_result"
    }
   ],
   "source": [
    "# 불균형한 레이블 데이터 분포 확인\n",
    "# np.unique(y_test, return_counts=True) # numpy value_counts\n",
    "pd.Series(y_test).value_counts() # pandas value_counts"
   ]
  },
  {
   "cell_type": "code",
   "execution_count": 9,
   "metadata": {},
   "outputs": [
    {
     "data": {
      "text/plain": [
       "0.9"
      ]
     },
     "execution_count": 9,
     "metadata": {},
     "output_type": "execute_result"
    }
   ],
   "source": [
    "fake_clf = MyFakeClassifier()\n",
    "fake_clf.fit(X_train, y_train)\n",
    "fake_pred = fake_clf.predict(X_test)\n",
    "accuracy_score(y_test, fake_pred)\n",
    "# get_clf_eval(y_test, fake_pred)"
   ]
  },
  {
   "cell_type": "markdown",
   "metadata": {},
   "source": [
    "- 단순히 predict() 결과를 모두 0으로 반환하는 모델임에도 불구하고, 정확도가 90%로 나옴\n",
    "- 결론 : __<U>정확도는 불균형한 레이블 데이터 세트에서는 모델 성능 평가 수치로 사용해서는 안된다.</U>__"
   ]
  },
  {
   "cell_type": "markdown",
   "metadata": {},
   "source": [
    "## 02. 오차 행렬 confusion matrix\n",
    "- 이진 분류에서 성능 지표로 잘 활용됨\n",
    "- 학습된 분류 모델이 예측을 수행하면서 얼마나 confused하고 있는지를 보여주는 지표\n",
    "- 예측 오류의 정도와 유형을 함께 나타냄\n",
    "\n",
    "#### Q. 왜 클래스라고 하는거지? \n",
    "A. 클래스(class) : 출력될 수 있는 값들. 붓꽃의 종류들, 붓꽃의 종류는 세 클래스 중 하나에 속한다.  \n",
    "레이블(label) : 데이터 포인트 하나(붓꽃 하나)에 대한 기대 출력. 특정 데이터 포인트에 대한 출력  \n",
    "→ 예) 100개의 레이블 값을 unique하면 클래스가 나온다.\n",
    "\n",
    "\n",
    "> 4분면 행렬에서 실제 레이블 클래스 값과 예측 레이블 클래스 값이 어떠한 유형을 가지고 매핑되는지를 나타냅니다.\n",
    "\n",
    "\n",
    "<img src='https://img1.daumcdn.net/thumb/R800x0/?scode=mtistory2&fname=https%3A%2F%2Ft1.daumcdn.net%2Fcfile%2Ftistory%2F9908B7445E8BD68332' width=\"40%\"> \n",
    "\n",
    "사진 출처 [링크](https://leedakyeong.tistory.com/entry/%EB%B6%84%EB%A5%98-%EB%AA%A8%EB%8D%B8-%EC%84%B1%EB%8A%A5-%ED%8F%89%EA%B0%80-%EC%A7%80%ED%91%9C-Confusion-Matrix%EB%9E%80-%EC%A0%95%ED%99%95%EB%8F%84Accuracy-%EC%A0%95%EB%B0%80%EB%8F%84Precision-%EC%9E%AC%ED%98%84%EB%8F%84Recall-F1-Score)\n",
    "\n",
    "앞의 True/False 는 예측값과 실제값이 같은가/틀린가를 의미하고,  \n",
    "뒤의 Negative/Positive는 예측 결과 값이 부정(0)/긍정(1)을 의미한다.\n",
    "\n",
    "*Negative/Positive의 의미는 무엇인가???*"
   ]
  },
  {
   "cell_type": "code",
   "execution_count": 10,
   "metadata": {},
   "outputs": [
    {
     "data": {
      "text/plain": [
       "array([[324,   0],\n",
       "       [ 36,   0]])"
      ]
     },
     "execution_count": 10,
     "metadata": {},
     "output_type": "execute_result"
    }
   ],
   "source": [
    "from sklearn.metrics import confusion_matrix\n",
    "confusion_matrix(y_test, fake_pred)"
   ]
  },
  {
   "cell_type": "markdown",
   "metadata": {},
   "source": [
    "무조건 0이라고 예측해서 맞은 것 True Negative 324개, 틀린 것 False Negative 36개이다.\n",
    "\n",
    "*여기서 Negative는 0 및 False, Positive는 1 및 Ture을 의미하나보다.*\n",
    "\n",
    "앞서 정확도는 예측값이 실제 값과 얼마나 동일한가에 대한 비율로만 결정되기 때문에 TN, TP에 좌우된다.\n",
    "일반적으로 이러한 불균형한 레이블 클래스를 가지는 이진 분류 모델에서는 많은 데이터 중에서 <U>중점적으로 찾아야 하는 매우 적은 수의 레이블 값에 Postive 1을 부여하고, 그렇지 않은 경우 Negative 0을 부여한다.</U>  \n",
    "- 예 1) 사기 행위 예측 모델에서 사기 행위가 Positive 1로, 정상 행위도 Negative 0으로 결정  \n",
    "- 예 2) 암 검진 예측 모델에서 암이 양성일 경우 Positive 1로, 음성일 경우 Negative 0으로 결정  \n",
    "\n",
    "불균형한 이진 분류 데이터 셋에서 Positive 데이터 건수가 매우 작기 때문에 이를 기반한 모델은 Positive 보다 Negative로 예측 정확도가 높아진다. 즉, Negative로 예측하는 경향이 더 강해져서 TN >> TP이 된다.  \n",
    "결과적으로 '정확도' 지표는 (TN+TP)/All 이므로 TN만으로 정확도가 매우 높게 나와서 수치적인 판단 오류를 일으킨다.   \n",
    "\n",
    "사기 행위나 암 검진 예측 모델에서와 같이 이진 분류 모델은 Positive를 정확하게 예측하는 것이 더 중요하기 때문에 Positive 에 대한 예측 정확도를 높이는 것이 더 중요하다. → positive 예측 성능에 초점을 둔 <U>'정밀도와 재현율'</U>    "
   ]
  },
  {
   "cell_type": "markdown",
   "metadata": {},
   "source": [
    "## 03. 정밀도 precision 와 재현율 recall\n",
    "- positive 데이터 세트의 예측 성능\n",
    "- 앞서 만든 MyFakeClassifier는 Positive로 예측한 TP 값이 하나도 없기 때문에 정밀도와 재현율 값이 모두 0\n",
    "\n",
    "$정밀도 precision = TP / (FP+TP)$ \n",
    "- Positive라고 예측한 대상 중 실제값이랑 일치한 데이터의 비율\n",
    "    - 예 1) 사기라고 예측한 건수 중에 실제 사기였던 비율\n",
    "    - 예 2) 암 양성이라고 예측한 case 중에 실제 암인 비율\n",
    "- 정밀도가 중요한 지표일 경우 \n",
    "    - 예) 스팸메일 판단 모델\n",
    "- FP를 낮추는데 초점\n",
    "\n",
    "$재현율 recall = TP / (FN+TP)$\n",
    "- 실제 값이 Positive인 대상 중에 예측과 실제 값이 Positive로 일치한 데이터의 비율\n",
    "    - 예 1) 실제로 사기였던 건수 중에 예측에 성공했던 건수의 비율\n",
    "    - 예 2) 실제로 암이었던 case 중에 예측에 성공했던 case의 비율\n",
    "- 재현율이 중요한 지표일 경우 = 실제 Positive 양성 데이터를 Negative로 잘못 판단하게 되면 업무상 영향을 받는 경우\n",
    "    - 예) 금융 사기 적발 모델, 암 진단 모델\n",
    "- FN을 낮추는데 초점\n",
    "\n",
    "<img src='https://img1.daumcdn.net/thumb/R800x0/?scode=mtistory2&fname=https%3A%2F%2Ft1.daumcdn.net%2Fcfile%2Ftistory%2F9908B7445E8BD68332' width=\"40%\"> \n",
    "\n",
    "사진 출처 [링크](https://leedakyeong.tistory.com/entry/%EB%B6%84%EB%A5%98-%EB%AA%A8%EB%8D%B8-%EC%84%B1%EB%8A%A5-%ED%8F%89%EA%B0%80-%EC%A7%80%ED%91%9C-Confusion-Matrix%EB%9E%80-%EC%A0%95%ED%99%95%EB%8F%84Accuracy-%EC%A0%95%EB%B0%80%EB%8F%84Precision-%EC%9E%AC%ED%98%84%EB%8F%84Recall-F1-Score)\n",
    "\n",
    "```\n",
    "# 정밀도 계산\n",
    "precision_score()\n",
    "\n",
    "# 재현율 계산\n",
    "recall_score()\n",
    "\n",
    "# confusion matrix, accuracy, precision, recall을 한꺼번에 호출\n",
    "get_clf_eval()\n",
    "\n",
    "```"
   ]
  },
  {
   "cell_type": "code",
   "execution_count": 11,
   "metadata": {},
   "outputs": [],
   "source": [
    "from sklearn.metrics import accuracy_score, recall_score, confusion_matrix, precision_score\n",
    "\n",
    "def get_clf_eval(y_test, pred):\n",
    "    cfs = confusion_matrix(y_test, pred)\n",
    "    acc = accuracy_score(y_test, pred)\n",
    "    prec = precision_score(y_test, pred)\n",
    "    rcl = recall_score(y_test, pred)\n",
    "    \n",
    "    print(\"confusion matrix:\")\n",
    "    print(cfs)\n",
    "    print(\"accuracy:{:.4f}, precision:{:.4f}, recall:{:.4f} \".format(acc, prec, rcl))\n",
    "    "
   ]
  },
  {
   "cell_type": "code",
   "execution_count": 12,
   "metadata": {},
   "outputs": [
    {
     "name": "stdout",
     "output_type": "stream",
     "text": [
      "confusion matrix:\n",
      "[[104  14]\n",
      " [ 13  48]]\n",
      "accuracy:0.8492, precision:0.7742, recall:0.7869 \n"
     ]
    }
   ],
   "source": [
    "# 회귀 모델\n",
    "from sklearn.model_selection import train_test_split\n",
    "from sklearn.linear_model import LogisticRegression\n",
    "\n",
    "tt_df = pd.read_csv(\"titanic_train.csv\")\n",
    "y_tt_df = tt_df[\"Survived\"]\n",
    "X_tt_df = tt_df.drop(\"Survived\", axis=1)\n",
    "X_tt_df = transform_features(X_tt_df) # 전처리\n",
    "\n",
    "X_train, X_test, y_train, y_test = train_test_split(X_tt_df, y_tt_df, test_size=0.2, random_state=11)\n",
    "\n",
    "lr_clf = LogisticRegression()\n",
    "lr_clf.fit(X_train, y_train)\n",
    "lr_pred = lr_clf.predict(X_test)\n",
    "\n",
    "get_clf_eval(y_test, lr_pred)"
   ]
  },
  {
   "cell_type": "code",
   "execution_count": 13,
   "metadata": {},
   "outputs": [
    {
     "name": "stdout",
     "output_type": "stream",
     "text": [
      "confusion matrix:\n",
      "[[101  17]\n",
      " [ 18  43]]\n",
      "accuracy:0.8045, precision:0.7167, recall:0.7049 \n"
     ]
    }
   ],
   "source": [
    "# 결정트리 모델\n",
    "from sklearn.tree import DecisionTreeClassifier\n",
    "\n",
    "dtree = DecisionTreeClassifier()\n",
    "dtree.fit(X_train, y_train)\n",
    "dt_pred = dtree.predict(X_test)\n",
    "get_clf_eval(y_test, dt_pred)"
   ]
  },
  {
   "cell_type": "code",
   "execution_count": 14,
   "metadata": {},
   "outputs": [
    {
     "name": "stdout",
     "output_type": "stream",
     "text": [
      "confusion matrix:\n",
      "[[109   9]\n",
      " [ 16  45]]\n",
      "accuracy:0.8603, precision:0.8333, recall:0.7377 \n"
     ]
    }
   ],
   "source": [
    "# 랜덤포레스트 모델\n",
    "from sklearn.ensemble import RandomForestClassifier\n",
    "\n",
    "rf_clf = RandomForestClassifier()\n",
    "rf_clf.fit(X_train, y_train)\n",
    "rf_pred = rf_clf.predict(X_test)\n",
    "get_clf_eval(y_test, rf_pred)"
   ]
  },
  {
   "cell_type": "code",
   "execution_count": 15,
   "metadata": {},
   "outputs": [
    {
     "name": "stdout",
     "output_type": "stream",
     "text": [
      "confusion matrix:\n",
      "[[118   0]\n",
      " [ 61   0]]\n",
      "accuracy:0.6592, precision:0.0000, recall:0.0000 \n"
     ]
    }
   ],
   "source": [
    "# 아까 MyDummyClassifier(성별에 따라서만 예측) \n",
    "\n",
    "myclf = MyDummyClassifier()\n",
    "myclf.fit(X_train, y_train)\n",
    "mypred = myclf.predict(X_test)\n",
    "get_clf_eval(y_test, mypred)"
   ]
  },
  {
   "cell_type": "markdown",
   "metadata": {},
   "source": [
    "1. postivie(1)로 판단하게 없어서 precision과 recall 모두 0이 나오긴 했는데, precision 공식에 따르면 0/0이어서 계산이 안될 줄 알았는데 분자가 0이면 모두 0으로 되는 건지 오류 없이 0이 나오긴 한다. 내부적으로 어떻게 계산하는지 초큼 궁금???\n",
    "2. 그림에서의 P/N 위치가 코드 결과와 반대로 되어 있다. 오른쪽 값들 → precision, 아래쪽 값들 → recall\n",
    "\n",
    "### 정밀도/재현율 trade-off\n",
    "\n",
    "분류 알고리즘에서,\n",
    "- 각 데이터가 특정 레이블에 속하는지 각각의 확률(결정 확률?)을 구하여 예측 확률이 큰 레이블 값으로 최종 결정\n",
    "- 예를 들어 이진 분류 모델에서 특정 데이터가 0이 될 확률이 10%, 1이 될 확률이 90%라면 최종 예측은 더 큰 확률을 가진 1로 예측\n",
    "- 일반적으로 이진 분류에서는 임계값을 0.5 즉 50%로 정하고 이 기준보다 크면 Positive, 작으면 Negative\n",
    "- `predict_proba()` : 개별 예측 확률 반환\n",
    "    - 학습이 완료된 Classifier 객체에서 호출 가능\n",
    "    - 테스트 피처(레이블) 데이터 세트를 입력\n",
    "    - m X n ndarray 로 반환 (m : 입력 값의 레코드 수, n : 클래스 값 유형)\n",
    "    - 각 열은 개별 클라스의 예측 확률\n",
    "    - 이진 분류에서 첫번째 칼럼은 0 Negative 확률, 두번째 칼럼은 1 Positive 확률\n",
    "    \n",
    "*내피셜이긴 한데, python에서는 negative를 positive보다 선순위로 두는 것 같다. 0,1 순서라서 그런가...*\n",
    "    \n"
   ]
  },
  {
   "cell_type": "markdown",
   "metadata": {},
   "source": [
    "__cf. predict 결과물은 ndarray 타입__"
   ]
  },
  {
   "cell_type": "code",
   "execution_count": 16,
   "metadata": {
    "scrolled": true
   },
   "outputs": [
    {
     "name": "stdout",
     "output_type": "stream",
     "text": [
      "pred_proba dtype: <class 'numpy.ndarray'>\n",
      "pred_proba shape: (179, 2)\n",
      "pred_proba head(3):\n",
      "[[0.46196457 0.53803543]\n",
      " [0.87861802 0.12138198]\n",
      " [0.8771453  0.1228547 ]]\n",
      "\n",
      "pred dtype: <class 'numpy.ndarray'>\n",
      "pred shape: (179,)\n",
      "pred head(3):\n",
      "[1 0 0]\n"
     ]
    },
    {
     "data": {
      "text/plain": [
       "array([[0.46196457, 0.53803543, 1.        ],\n",
       "       [0.87861802, 0.12138198, 0.        ],\n",
       "       [0.8771453 , 0.1228547 , 0.        ]])"
      ]
     },
     "execution_count": 16,
     "metadata": {},
     "output_type": "execute_result"
    }
   ],
   "source": [
    "pred_proba = lr_clf.predict_proba(X_test)\n",
    "pred = lr_clf.predict(X_test)\n",
    "\n",
    "print(\"pred_proba dtype:\", type(pred_proba))\n",
    "print(\"pred_proba shape:\", pred_proba.shape)\n",
    "print(\"pred_proba head(3):\", pred_proba[:3], sep='\\n')\n",
    "\n",
    "print()\n",
    "print(\"pred dtype:\", type(pred))\n",
    "print(\"pred shape:\", pred.shape)\n",
    "print(\"pred head(3):\", pred[:3], sep=\"\\n\")\n",
    "\n",
    "# 예측 확률과 결과값을 병합\n",
    "result = np.concatenate([pred_proba, pred.reshape(-1,1)], axis=1)\n",
    "result[:3]"
   ]
  },
  {
   "cell_type": "markdown",
   "metadata": {},
   "source": [
    "#### Q. concat의 문제인지 모르겠지만 reshape을 하는 이유를 잘 모르겠다.\n",
    "A. `pred`를 reshape하기 전 shape을 찍어보면 (179,) 이건 그냥 1차 array이다. numpy.concatenate 문서를 살펴보면 (a1,a2...) 인자에 들어가는 array의 shape은 모두 동일해야한다고 말하고 있다. reshape을 통해서 pred_proba와 같은 2차원 형태으로 바꾸어주어야 한다.\n",
    "\n",
    "<img width=\"500\" alt=\"스크린샷 2021-07-13 오후 7 43 34\" src=\"https://user-images.githubusercontent.com/38090151/125438940-44168128-d9b2-4b19-b012-892add2346f3.png\" >\n"
   ]
  },
  {
   "cell_type": "markdown",
   "metadata": {},
   "source": [
    "#### 결국 predict() 메서드는 predict_proba() 메서드에서 기반해서 생성된 API\n",
    "predict()는 predict_proba() 호출 결과로 반환된 배열에서 <U>분류 결정 임계값(Classification Threshold)</U>보다 큰 값이 들어있는 칼럼의 위치를 받아서 최종적으로 예측   \n",
    "→ <U>분류 결정 임계값</U>을 조절해 정밀도와 재현율의 성능 수치를 상호 보완적으로 조정\n",
    "\n",
    "*예측 결과 나오면 그거를 count해서 TN, TP, FN, FP를 구하는 거니깐 Threshold를 조정하면 그 갯수도 조금씩 조정할 수 있겠구나!*\n",
    "\n",
    "### Binarizer \n",
    "바이너라이저...  \n",
    "*??? 어떤 모듈인지 잘 모르겠다. 그냥 threshold 적용시켜주는 모듈인가*"
   ]
  },
  {
   "cell_type": "code",
   "execution_count": 17,
   "metadata": {},
   "outputs": [
    {
     "data": {
      "text/plain": [
       "array([[0., 0., 1.],\n",
       "       [1., 0., 0.],\n",
       "       [0., 0., 1.]])"
      ]
     },
     "execution_count": 17,
     "metadata": {},
     "output_type": "execute_result"
    }
   ],
   "source": [
    "from sklearn.preprocessing import Binarizer\n",
    "\n",
    "X = [[1, -1, 2],\n",
    "    [2, 0, 0],\n",
    "    [0, 1.1, 1.2]]\n",
    "\n",
    "# X의 개별 원소들이 threshold값보다 같거나 작으면 0을, 크면 1을 반환\n",
    "bnz = Binarizer(threshold=1.1) # 객체 할당\n",
    "bnz.fit_transform(X) # 학습 및 적용???"
   ]
  },
  {
   "cell_type": "markdown",
   "metadata": {},
   "source": [
    "#### [summary] 임계값이 0.5 → 0.4로 감소하면,  \n",
    "Positive 예측값이 많아지면서 상대적으로 recall 값이 높아진다. \n",
    "Positive 예측을 많이 하다보니 실제 양성을 음성으로 예측하는 횟수(FN 값)가/이 상대적으로 줄어들기 때문이다. \n",
    "- accruacy 감소 : 0.8492 → 0.8324\n",
    "- precision 감소 : 0.7742 → 0.7183\n",
    "- recall 증가 : 0.7869 → 0.8361 "
   ]
  },
  {
   "cell_type": "code",
   "execution_count": 18,
   "metadata": {},
   "outputs": [
    {
     "name": "stdout",
     "output_type": "stream",
     "text": [
      "confusion matrix:\n",
      "[[104  14]\n",
      " [ 13  48]]\n",
      "accuracy:0.8492, precision:0.7742, recall:0.7869 \n"
     ]
    }
   ],
   "source": [
    "cust_thr = 0.5\n",
    "\n",
    "pred_proba1 = pred_proba[:,1].reshape(-1,1)\n",
    "bnz = Binarizer(threshold=cust_thr).fit(pred_proba1)\n",
    "cust_pred = bnz.transform(pred_proba1) # transform 할 때 2d array로\n",
    "\n",
    "get_clf_eval(y_test, cust_pred)\n",
    "# 앞의 결과와 동일! 임계값이 0.5로 default로 되어있었나보다"
   ]
  },
  {
   "cell_type": "code",
   "execution_count": 19,
   "metadata": {},
   "outputs": [
    {
     "name": "stdout",
     "output_type": "stream",
     "text": [
      "confusion matrix:\n",
      "[[98 20]\n",
      " [10 51]]\n",
      "accuracy:0.8324, precision:0.7183, recall:0.8361 \n"
     ]
    }
   ],
   "source": [
    "cust_thr = 0.4\n",
    "\n",
    "pred_proba1 = pred_proba[:,1].reshape(-1,1)\n",
    "bnz = Binarizer(threshold=cust_thr).fit(pred_proba1)\n",
    "cust_pred = bnz.transform(pred_proba1) # transform 할 때 2d array로\n",
    "\n",
    "get_clf_eval(y_test, cust_pred)"
   ]
  },
  {
   "cell_type": "markdown",
   "metadata": {},
   "source": [
    "#### [summary] 임계값이 증가하면,\n",
    "- accruacy 증가 \n",
    "- precision 증가 \n",
    "- recall 감소 "
   ]
  },
  {
   "cell_type": "code",
   "execution_count": 20,
   "metadata": {},
   "outputs": [
    {
     "name": "stdout",
     "output_type": "stream",
     "text": [
      "threshold: 0.4\n",
      "confusion matrix:\n",
      "[[98 20]\n",
      " [10 51]]\n",
      "accuracy:0.8324, precision:0.7183, recall:0.8361 \n",
      "\n",
      "threshold: 0.45\n",
      "confusion matrix:\n",
      "[[103  15]\n",
      " [ 12  49]]\n",
      "accuracy:0.8492, precision:0.7656, recall:0.8033 \n",
      "\n",
      "threshold: 0.5\n",
      "confusion matrix:\n",
      "[[104  14]\n",
      " [ 13  48]]\n",
      "accuracy:0.8492, precision:0.7742, recall:0.7869 \n",
      "\n",
      "threshold: 0.55\n",
      "confusion matrix:\n",
      "[[109   9]\n",
      " [ 15  46]]\n",
      "accuracy:0.8659, precision:0.8364, recall:0.7541 \n",
      "\n",
      "threshold: 0.6\n",
      "confusion matrix:\n",
      "[[112   6]\n",
      " [ 16  45]]\n",
      "accuracy:0.8771, precision:0.8824, recall:0.7377 \n",
      "\n"
     ]
    }
   ],
   "source": [
    "thresholds = [0.4, 0.45, 0.5, 0.55, 0.60]\n",
    "\n",
    "def get_eval_by_threshold(y_test, pred_proba_c1, thresholds):\n",
    "    for cust_thres in thresholds :\n",
    "        bnz = Binarizer(threshold=cust_thres).fit(pred_proba_c1)\n",
    "        cust_pred = bnz.transform(pred_proba_c1)\n",
    "        print(\"threshold:\", cust_thres)\n",
    "        get_clf_eval(y_test, cust_pred)\n",
    "        print()\n",
    "        \n",
    "get_eval_by_threshold(y_test, pred_proba[:,1].reshape(-1,1), thresholds)"
   ]
  },
  {
   "cell_type": "markdown",
   "metadata": {},
   "source": [
    "### precision_recall_curve()\n",
    "- 타이타닉 예측 모델의 임곗값별 precision과 recall\n",
    "- 0.11~0.95 threshold과 이에 해당하는 precision과 recall 값을 ndarray로 반환"
   ]
  },
  {
   "cell_type": "code",
   "execution_count": 21,
   "metadata": {},
   "outputs": [
    {
     "name": "stdout",
     "output_type": "stream",
     "text": [
      "반환된 thresholds의 배열의 shape: (143,)\n",
      "샘플 추출을 위한 thresholds 배열의 index: [  0  15  30  45  60  75  90 105 120 135]\n",
      "샘플 10개의 thresholds: [0.1  0.12 0.14 0.19 0.28 0.4  0.56 0.67 0.82 0.95]\n",
      "thresholds별 precision: [0.389 0.44  0.466 0.539 0.647 0.729 0.836 0.949 0.958 1.   ]\n",
      "thresholds별 recall: [1.    0.967 0.902 0.902 0.902 0.836 0.754 0.607 0.377 0.148]\n"
     ]
    }
   ],
   "source": [
    "from sklearn.metrics import precision_recall_curve\n",
    "\n",
    "# 레이블 값이 1일 때의 예측 확률 추출\n",
    "pred_proba_c1 = lr_clf.predict_proba(X_test)[:,1]\n",
    "\n",
    "# 실제값 데이터 세트와 레이블 값이 1일 때의 예측 확률을 인자로 입력\n",
    "precisions, recalls, thresholds = precision_recall_curve(y_test, pred_proba_c1)\n",
    "print(\"반환된 thresholds의 배열의 shape:\",thresholds.shape)\n",
    "\n",
    "# 반환된 임계값 배열 로우가 147건이므로 샘플로 10건만 추출, thresdhold를 15단계로 추출\n",
    "thr_idx = np.arange(0, thresholds.shape[0], 15)\n",
    "print(\"샘플 추출을 위한 thresholds 배열의 index:\",thr_idx)\n",
    "print(\"샘플 10개의 thresholds:\", np.round(thresholds[thr_idx],2))\n",
    "print(\"thresholds별 precision:\", np.round(precisions[thr_idx],3))\n",
    "print(\"thresholds별 recall:\", np.round(recalls[thr_idx],3))\n"
   ]
  },
  {
   "cell_type": "markdown",
   "metadata": {},
   "source": [
    "### precision_recall_curve() 시각화"
   ]
  },
  {
   "cell_type": "code",
   "execution_count": 22,
   "metadata": {},
   "outputs": [
    {
     "data": {
      "text/plain": [
       "(143,)"
      ]
     },
     "execution_count": 22,
     "metadata": {},
     "output_type": "execute_result"
    }
   ],
   "source": [
    "thresholds.shape"
   ]
  },
  {
   "cell_type": "code",
   "execution_count": 23,
   "metadata": {},
   "outputs": [
    {
     "data": {
      "image/png": "[encoded data removed]",
      "text/plain": [
       "<Figure size 576x432 with 1 Axes>"
      ]
     },
     "metadata": {
      "needs_background": "light"
     },
     "output_type": "display_data"
    }
   ],
   "source": [
    "import matplotlib.pyplot as plt\n",
    "# import matplotlib.ticker as ticker\n",
    "\n",
    "def precision_recall_curve_plot(y_test, pred_proba_c1):\n",
    "    \n",
    "    precisions, recalls, thresholds = precision_recall_curve(y_test, pred_proba_c1)\n",
    "\n",
    "    plt.figure(figsize=(8,6))\n",
    "    threshold_boundary = thresholds.shape[0]\n",
    "    plt.plot(thresholds, precisions[:threshold_boundary], label='precision')\n",
    "    plt.plot(thresholds, recalls[:threshold_boundary ], label='recall')\n",
    "\n",
    "    start,end = plt.xlim()\n",
    "    plt.xticks(np.round(np.arange(start, end, 0.1),2))\n",
    "\n",
    "    plt.xlabel(\"Thresholds Value\")\n",
    "    plt.ylabel(\"Precision and Recall Value\")\n",
    "    plt.legend(); plt.grid()\n",
    "    plt.show()\n",
    "    \n",
    "precision_recall_curve_plot(y_test, lr_clf.predict_proba(X_test)[:,1])"
   ]
  },
  {
   "cell_type": "markdown",
   "metadata": {},
   "source": [
    "- threshold가 낮을수록 많은 Positive 예측으로 recall 높아지고, precision 낮아짐\n",
    "- 반면, threshold 증가할수록 많은 Negative 예측으로 recall 낮아지고, precision 높아짐\n",
    "\n",
    "→ 하나의 성능 지표 수치만 높여서는 안된다. 서로 상호 보완할 수 있는 수준이어야한다. \n",
    "→ precision과 recall 수치가 적절하게 조합돼 분류의 종합적인 성능 평가에 사용되는 지표 : F1 스코어"
   ]
  },
  {
   "cell_type": "markdown",
   "metadata": {},
   "source": [
    "## 04. F1 스코어\n",
    "\n",
    "$F1 = \\frac{1}{\\frac{1}{recall}+\\frac{1}{precision}} = 2 * \\frac{precision*recall}{precision+recall}$\n",
    "- precision과 recall이 어느 한쪽으로 치우지지 않는 수치를 나타낼 때 상대적으로 높은 값을 가짐\n",
    "- 최댓값은 1\n",
    "\n",
    "### f1_score()"
   ]
  },
  {
   "cell_type": "code",
   "execution_count": 24,
   "metadata": {},
   "outputs": [
    {
     "name": "stdout",
     "output_type": "stream",
     "text": [
      "0.7804878048780488\n"
     ]
    }
   ],
   "source": [
    "from sklearn.metrics import f1_score\n",
    "f1 = f1_score(y_test, pred)\n",
    "print(f1)"
   ]
  },
  {
   "cell_type": "markdown",
   "metadata": {},
   "source": [
    "#### threshold 바꾸어가면서 F1 스코어를 포함한 평가 지표 구해보기\n",
    "- get_clf_eval() 함수에 F1 스코어를 구하는 로직을 추가"
   ]
  },
  {
   "cell_type": "code",
   "execution_count": 25,
   "metadata": {},
   "outputs": [
    {
     "name": "stdout",
     "output_type": "stream",
     "text": [
      "threshold: 0.4\n",
      "confusion matrix:\n",
      "[[98 20]\n",
      " [10 51]]\n",
      "accuracy:0.8324, precision:0.7183, recall:0.8361, F1:0.7727 \n",
      "\n",
      "threshold: 0.45\n",
      "confusion matrix:\n",
      "[[103  15]\n",
      " [ 12  49]]\n",
      "accuracy:0.8492, precision:0.7656, recall:0.8033, F1:0.7840 \n",
      "\n",
      "threshold: 0.5\n",
      "confusion matrix:\n",
      "[[104  14]\n",
      " [ 13  48]]\n",
      "accuracy:0.8492, precision:0.7742, recall:0.7869, F1:0.7805 \n",
      "\n",
      "threshold: 0.55\n",
      "confusion matrix:\n",
      "[[109   9]\n",
      " [ 15  46]]\n",
      "accuracy:0.8659, precision:0.8364, recall:0.7541, F1:0.7931 \n",
      "\n",
      "threshold: 0.6\n",
      "confusion matrix:\n",
      "[[112   6]\n",
      " [ 16  45]]\n",
      "accuracy:0.8771, precision:0.8824, recall:0.7377, F1:0.8036 \n",
      "\n"
     ]
    }
   ],
   "source": [
    "def get_clf_eval(y_test, pred):\n",
    "    cfs = confusion_matrix(y_test, pred)\n",
    "    acc = accuracy_score(y_test, pred)\n",
    "    prec = precision_score(y_test, pred)\n",
    "    rcl = recall_score(y_test, pred)\n",
    "    \n",
    "    # f1 추가\n",
    "    f1 = f1_score(y_test, pred)\n",
    "    \n",
    "    print(\"confusion matrix:\")\n",
    "    print(cfs)\n",
    "    print(\"accuracy:{:.4f}, precision:{:.4f}, recall:{:.4f}, F1:{:.4f} \".format(acc, prec, rcl, f1))\n",
    "\n",
    "    \n",
    "thresholds = [0.4, 0.45, 0.5, 0.55, 0.60]\n",
    "pred_proba = lr_clf.predict_proba(X_test)\n",
    "get_eval_by_threshold(y_test, pred_proba[:,1].reshape(-1,1), thresholds)\n"
   ]
  },
  {
   "cell_type": "markdown",
   "metadata": {},
   "source": [
    "## 05. ROC 곡선과 AUC\n",
    "\n",
    "- 일반적으로 이진 분류의 성능 평가를 위해 가장 많이 사용되는 지표\n",
    "- ROC 곡선이 대각선 직선으로부터 멀어질수록 성능이 뛰어남\n",
    "- AUC(Area Under Curve) 값은 ROC 곡선 밑의 면적, 1에 가까울수록 좋은 수치"
   ]
  },
  {
   "cell_type": "code",
   "execution_count": 28,
   "metadata": {},
   "outputs": [
    {
     "name": "stdout",
     "output_type": "stream",
     "text": [
      "샘플 추출을 위한 thresholds의 index: [ 1  6 11 16 21 26 31 36 41 46 51]\n",
      "샘플 idx로 추출한 threshold: [0.97 0.65 0.63 0.56 0.45 0.4  0.35 0.15 0.13 0.11 0.11]\n",
      "샘플 idx별 FPR: [0.    0.017 0.034 0.076 0.127 0.169 0.203 0.466 0.585 0.686 0.797]\n",
      "샘플 idx별 TPR: [0.033 0.639 0.721 0.754 0.803 0.836 0.885 0.902 0.934 0.967 0.984]\n"
     ]
    }
   ],
   "source": [
    "from sklearn.metrics import roc_curve\n",
    "\n",
    "pred_proba_class1 = lr_clf.predict_proba(X_test)[:,1]\n",
    "fprs, tprs, thresholds = roc_curve(y_test, pred_proba_class1)\n",
    "\n",
    "thr_idx = np.arange(1, thresholds.shape[0], 5)\n",
    "print(\"샘플 추출을 위한 thresholds의 index:\", thr_idx)\n",
    "print(\"샘플 idx로 추출한 threshold:\", np.round(thresholds[thr_idx],2))\n",
    "print(\"샘플 idx별 FPR:\", np.round(fprs[thr_idx],3))\n",
    "print(\"샘플 idx별 TPR:\", np.round(tprs[thr_idx],3))\n"
   ]
  },
  {
   "cell_type": "markdown",
   "metadata": {},
   "source": [
    "### ROC 곡선 시각화\n",
    "- `roc_curve`"
   ]
  },
  {
   "cell_type": "code",
   "execution_count": 29,
   "metadata": {},
   "outputs": [
    {
     "data": {
      "image/png": "[encoded data removed]",
      "text/plain": [
       "<Figure size 432x288 with 1 Axes>"
      ]
     },
     "metadata": {
      "needs_background": "light"
     },
     "output_type": "display_data"
    }
   ],
   "source": [
    "def roc_curve_plot(y_test, pred_proba_c1):\n",
    "    fprs, tprs, thresholds = roc_curve(y_test, pred_proba_c1)\n",
    "    plt.plot(fprs, tprs, label='ROC')\n",
    "    plt.plot([0,1],[0,1],'k--', label='Random')\n",
    "    \n",
    "    \n",
    "    start,end = plt.xlim()\n",
    "    plt.xticks(np.round(np.arange(start, end, 0.1),2))\n",
    "    plt.xlim(0,1); plt.ylim(0,1)\n",
    "    plt.xlabel(\"FPR(1 - Sensitivity)\"); plt.ylabel('TPR(Recall)')\n",
    "    plt.legend()\n",
    "    \n",
    "roc_curve_plot(y_test, pred_proba[:,1])"
   ]
  },
  {
   "cell_type": "markdown",
   "metadata": {},
   "source": [
    "### ROC 곡선 성능 지표 수치화 \n",
    "- `roc_auc_score` "
   ]
  },
  {
   "cell_type": "code",
   "execution_count": 30,
   "metadata": {},
   "outputs": [
    {
     "name": "stdout",
     "output_type": "stream",
     "text": [
      "0.9024034454015005\n"
     ]
    }
   ],
   "source": [
    "from sklearn.metrics import roc_auc_score\n",
    "\n",
    "pred_proba = lr_clf.predict_proba(X_test)[:,1]\n",
    "roc_score = roc_auc_score(y_test, pred_proba)\n",
    "print(roc_score)"
   ]
  },
  {
   "cell_type": "markdown",
   "metadata": {},
   "source": [
    "- get_clf_eval() 함수에 ROC_AUC를 구하는 로직을 추가"
   ]
  },
  {
   "cell_type": "code",
   "execution_count": 33,
   "metadata": {},
   "outputs": [
    {
     "name": "stdout",
     "output_type": "stream",
     "text": [
      "confusion matrix:\n",
      "[[104  14]\n",
      " [ 13  48]]\n",
      "accuracy:0.8492, precision:0.7742, recall:0.7869, F1:0.7805, AUC:0.9024 \n"
     ]
    }
   ],
   "source": [
    "def get_clf_eval(y_test, pred=None, pred_proba=None):\n",
    "    cfs = confusion_matrix(y_test, pred)\n",
    "    acc = accuracy_score(y_test, pred)\n",
    "    prec = precision_score(y_test, pred)\n",
    "    rcl = recall_score(y_test, pred)\n",
    "    f1 = f1_score(y_test, pred)\n",
    "    \n",
    "    roc_auc = roc_auc_score(y_test, pred_proba)\n",
    "    \n",
    "    \n",
    "    print(\"confusion matrix:\")\n",
    "    print(cfs)\n",
    "    print(\"accuracy:{:.4f}, precision:{:.4f}, recall:{:.4f}, F1:{:.4f}, AUC:{:.4f} \".format(acc, prec, rcl, f1, roc_auc))\n",
    "\n",
    "\n",
    "get_clf_eval(y_test, pred, pred_proba)\n",
    "    "
   ]
  },
  {
   "cell_type": "markdown",
   "metadata": {},
   "source": [
    "## 06. 피마 인디언 당뇨병 예측"
   ]
  },
  {
   "cell_type": "code",
   "execution_count": 35,
   "metadata": {},
   "outputs": [],
   "source": [
    "import numpy as np\n",
    "import matplotlib.pyplot as plt\n",
    "import pandas as pd\n",
    "\n",
    "from sklearn.model_selection import train_test_split\n",
    "from sklearn.metrics import accuracy_score, precision_score, recall_score, roc_auc_score\n",
    "from sklearn.metrics import f1_score, confusion_matrix, precision_recall_curve, roc_curve\n",
    "from sklearn.preprocessing import StandardScaler\n",
    "from sklearn.linear_model import LogisticRegression\n"
   ]
  },
  {
   "cell_type": "code",
   "execution_count": 38,
   "metadata": {},
   "outputs": [
    {
     "name": "stdout",
     "output_type": "stream",
     "text": [
      "0    500\n",
      "1    268\n",
      "Name: Outcome, dtype: int64\n"
     ]
    },
    {
     "data": {
      "text/html": [
       "<div>\n",
       "<style scoped>\n",
       "    .dataframe tbody tr th:only-of-type {\n",
       "        vertical-align: middle;\n",
       "    }\n",
       "\n",
       "    .dataframe tbody tr th {\n",
       "        vertical-align: top;\n",
       "    }\n",
       "\n",
       "    .dataframe thead th {\n",
       "        text-align: right;\n",
       "    }\n",
       "</style>\n",
       "<table border=\"1\" class=\"dataframe\">\n",
       "  <thead>\n",
       "    <tr style=\"text-align: right;\">\n",
       "      <th></th>\n",
       "      <th>Pregnancies</th>\n",
       "      <th>Glucose</th>\n",
       "      <th>BloodPressure</th>\n",
       "      <th>SkinThickness</th>\n",
       "      <th>Insulin</th>\n",
       "      <th>BMI</th>\n",
       "      <th>DiabetesPedigreeFunction</th>\n",
       "      <th>Age</th>\n",
       "      <th>Outcome</th>\n",
       "    </tr>\n",
       "  </thead>\n",
       "  <tbody>\n",
       "    <tr>\n",
       "      <th>0</th>\n",
       "      <td>6</td>\n",
       "      <td>148</td>\n",
       "      <td>72</td>\n",
       "      <td>35</td>\n",
       "      <td>0</td>\n",
       "      <td>33.6</td>\n",
       "      <td>0.627</td>\n",
       "      <td>50</td>\n",
       "      <td>1</td>\n",
       "    </tr>\n",
       "    <tr>\n",
       "      <th>1</th>\n",
       "      <td>1</td>\n",
       "      <td>85</td>\n",
       "      <td>66</td>\n",
       "      <td>29</td>\n",
       "      <td>0</td>\n",
       "      <td>26.6</td>\n",
       "      <td>0.351</td>\n",
       "      <td>31</td>\n",
       "      <td>0</td>\n",
       "    </tr>\n",
       "    <tr>\n",
       "      <th>2</th>\n",
       "      <td>8</td>\n",
       "      <td>183</td>\n",
       "      <td>64</td>\n",
       "      <td>0</td>\n",
       "      <td>0</td>\n",
       "      <td>23.3</td>\n",
       "      <td>0.672</td>\n",
       "      <td>32</td>\n",
       "      <td>1</td>\n",
       "    </tr>\n",
       "    <tr>\n",
       "      <th>3</th>\n",
       "      <td>1</td>\n",
       "      <td>89</td>\n",
       "      <td>66</td>\n",
       "      <td>23</td>\n",
       "      <td>94</td>\n",
       "      <td>28.1</td>\n",
       "      <td>0.167</td>\n",
       "      <td>21</td>\n",
       "      <td>0</td>\n",
       "    </tr>\n",
       "    <tr>\n",
       "      <th>4</th>\n",
       "      <td>0</td>\n",
       "      <td>137</td>\n",
       "      <td>40</td>\n",
       "      <td>35</td>\n",
       "      <td>168</td>\n",
       "      <td>43.1</td>\n",
       "      <td>2.288</td>\n",
       "      <td>33</td>\n",
       "      <td>1</td>\n",
       "    </tr>\n",
       "  </tbody>\n",
       "</table>\n",
       "</div>"
      ],
      "text/plain": [
       "   Pregnancies  Glucose  BloodPressure  SkinThickness  Insulin   BMI  \\\n",
       "0            6      148             72             35        0  33.6   \n",
       "1            1       85             66             29        0  26.6   \n",
       "2            8      183             64              0        0  23.3   \n",
       "3            1       89             66             23       94  28.1   \n",
       "4            0      137             40             35      168  43.1   \n",
       "\n",
       "   DiabetesPedigreeFunction  Age  Outcome  \n",
       "0                     0.627   50        1  \n",
       "1                     0.351   31        0  \n",
       "2                     0.672   32        1  \n",
       "3                     0.167   21        0  \n",
       "4                     2.288   33        1  "
      ]
     },
     "execution_count": 38,
     "metadata": {},
     "output_type": "execute_result"
    }
   ],
   "source": [
    "diabetes = pd.read_csv(\"diabetes.csv\")\n",
    "print(diabetes[\"Outcome\"].value_counts())\n",
    "diabetes.head()"
   ]
  },
  {
   "cell_type": "code",
   "execution_count": 39,
   "metadata": {},
   "outputs": [
    {
     "name": "stdout",
     "output_type": "stream",
     "text": [
      "<class 'pandas.core.frame.DataFrame'>\n",
      "RangeIndex: 768 entries, 0 to 767\n",
      "Data columns (total 9 columns):\n",
      " #   Column                    Non-Null Count  Dtype  \n",
      "---  ------                    --------------  -----  \n",
      " 0   Pregnancies               768 non-null    int64  \n",
      " 1   Glucose                   768 non-null    int64  \n",
      " 2   BloodPressure             768 non-null    int64  \n",
      " 3   SkinThickness             768 non-null    int64  \n",
      " 4   Insulin                   768 non-null    int64  \n",
      " 5   BMI                       768 non-null    float64\n",
      " 6   DiabetesPedigreeFunction  768 non-null    float64\n",
      " 7   Age                       768 non-null    int64  \n",
      " 8   Outcome                   768 non-null    int64  \n",
      "dtypes: float64(2), int64(7)\n",
      "memory usage: 54.1 KB\n"
     ]
    }
   ],
   "source": [
    "diabetes.info()"
   ]
  },
  {
   "cell_type": "code",
   "execution_count": 42,
   "metadata": {},
   "outputs": [
    {
     "name": "stdout",
     "output_type": "stream",
     "text": [
      "confusion matrix:\n",
      "[[88 12]\n",
      " [23 31]]\n",
      "accuracy:0.7727, precision:0.7209, recall:0.5741, F1:0.6392, AUC:0.7919 \n"
     ]
    }
   ],
   "source": [
    "X = diabetes.iloc[:,:-1]\n",
    "y = diabetes.iloc[:,-1]\n",
    "\n",
    "X_train, X_test, y_train, y_test = train_test_split(X, y, test_size=0.2, random_state=156, stratify=y)\n",
    "\n",
    "lr_clf = LogisticRegression()\n",
    "lr_clf.fit(X_train ,y_train)\n",
    "pred = lr_clf.predict(X_test)\n",
    "pred_proba = lr_clf.predict_proba(X_test)[:,1]\n",
    "\n",
    "get_clf_eval(y_test, pred, pred_proba)"
   ]
  },
  {
   "cell_type": "markdown",
   "metadata": {},
   "source": [
    "#### 결과를 보고 저자의 판단\n",
    "> 전체 데이터의 65%가 Negative이므로 정확도보다는 재현율의 성능에 조금 더 초점을 맞춰보겠습니다.\n",
    "\n",
    "해석 : y.value_counts()해보면 Negative:Positive = 500:268 이므로 Negative가 대략 65%를 차지한다. precision과 recall의 공식을 살펴보면 Negative에 의존하는 지표가 recall 이기 때문에 이를 높이기 위해 시도해본다고 이해할 수 있겠다.\n",
    "\n",
    "> 먼저 정밀도 재현율 곡선을 보고 임곗값별 정밀도와 재현율 값의 변화를 확인하겠습니다. 이를 위해 `precision_recall_curve_plot()`을 이용하겠습니다.\n"
   ]
  },
  {
   "cell_type": "code",
   "execution_count": 48,
   "metadata": {},
   "outputs": [
    {
     "name": "stdout",
     "output_type": "stream",
     "text": [
      "(154,)\n",
      "<class 'numpy.ndarray'>\n"
     ]
    },
    {
     "data": {
      "image/png": "[encoded data removed]",
      "text/plain": [
       "<Figure size 576x432 with 1 Axes>"
      ]
     },
     "metadata": {
      "needs_background": "light"
     },
     "output_type": "display_data"
    }
   ],
   "source": [
    "print(pred_proba.shape)\n",
    "print(type(pred_proba))\n",
    "precision_recall_curve_plot(y_test, pred_proba)"
   ]
  },
  {
   "cell_type": "markdown",
   "metadata": {},
   "source": [
    "> 임계값이 0.42정도로 낮추면 정밀도와 재현율이 어느 정도 균형을 맞춤. 하지만 두 개의 지표 모두 0.7으로 다소 낮은 수치 인계값을 조작하기 전에 다시 데이터 값 점검."
   ]
  },
  {
   "cell_type": "code",
   "execution_count": 51,
   "metadata": {},
   "outputs": [
    {
     "data": {
      "text/html": [
       "<div>\n",
       "<style scoped>\n",
       "    .dataframe tbody tr th:only-of-type {\n",
       "        vertical-align: middle;\n",
       "    }\n",
       "\n",
       "    .dataframe tbody tr th {\n",
       "        vertical-align: top;\n",
       "    }\n",
       "\n",
       "    .dataframe thead th {\n",
       "        text-align: right;\n",
       "    }\n",
       "</style>\n",
       "<table border=\"1\" class=\"dataframe\">\n",
       "  <thead>\n",
       "    <tr style=\"text-align: right;\">\n",
       "      <th></th>\n",
       "      <th>count</th>\n",
       "      <th>mean</th>\n",
       "      <th>std</th>\n",
       "      <th>min</th>\n",
       "      <th>25%</th>\n",
       "      <th>50%</th>\n",
       "      <th>75%</th>\n",
       "      <th>max</th>\n",
       "    </tr>\n",
       "  </thead>\n",
       "  <tbody>\n",
       "    <tr>\n",
       "      <th>Pregnancies</th>\n",
       "      <td>768.0</td>\n",
       "      <td>3.845052</td>\n",
       "      <td>3.369578</td>\n",
       "      <td>0.000</td>\n",
       "      <td>1.00000</td>\n",
       "      <td>3.0000</td>\n",
       "      <td>6.00000</td>\n",
       "      <td>17.00</td>\n",
       "    </tr>\n",
       "    <tr>\n",
       "      <th>Glucose</th>\n",
       "      <td>768.0</td>\n",
       "      <td>120.894531</td>\n",
       "      <td>31.972618</td>\n",
       "      <td>0.000</td>\n",
       "      <td>99.00000</td>\n",
       "      <td>117.0000</td>\n",
       "      <td>140.25000</td>\n",
       "      <td>199.00</td>\n",
       "    </tr>\n",
       "    <tr>\n",
       "      <th>BloodPressure</th>\n",
       "      <td>768.0</td>\n",
       "      <td>69.105469</td>\n",
       "      <td>19.355807</td>\n",
       "      <td>0.000</td>\n",
       "      <td>62.00000</td>\n",
       "      <td>72.0000</td>\n",
       "      <td>80.00000</td>\n",
       "      <td>122.00</td>\n",
       "    </tr>\n",
       "    <tr>\n",
       "      <th>SkinThickness</th>\n",
       "      <td>768.0</td>\n",
       "      <td>20.536458</td>\n",
       "      <td>15.952218</td>\n",
       "      <td>0.000</td>\n",
       "      <td>0.00000</td>\n",
       "      <td>23.0000</td>\n",
       "      <td>32.00000</td>\n",
       "      <td>99.00</td>\n",
       "    </tr>\n",
       "    <tr>\n",
       "      <th>Insulin</th>\n",
       "      <td>768.0</td>\n",
       "      <td>79.799479</td>\n",
       "      <td>115.244002</td>\n",
       "      <td>0.000</td>\n",
       "      <td>0.00000</td>\n",
       "      <td>30.5000</td>\n",
       "      <td>127.25000</td>\n",
       "      <td>846.00</td>\n",
       "    </tr>\n",
       "    <tr>\n",
       "      <th>BMI</th>\n",
       "      <td>768.0</td>\n",
       "      <td>31.992578</td>\n",
       "      <td>7.884160</td>\n",
       "      <td>0.000</td>\n",
       "      <td>27.30000</td>\n",
       "      <td>32.0000</td>\n",
       "      <td>36.60000</td>\n",
       "      <td>67.10</td>\n",
       "    </tr>\n",
       "    <tr>\n",
       "      <th>DiabetesPedigreeFunction</th>\n",
       "      <td>768.0</td>\n",
       "      <td>0.471876</td>\n",
       "      <td>0.331329</td>\n",
       "      <td>0.078</td>\n",
       "      <td>0.24375</td>\n",
       "      <td>0.3725</td>\n",
       "      <td>0.62625</td>\n",
       "      <td>2.42</td>\n",
       "    </tr>\n",
       "    <tr>\n",
       "      <th>Age</th>\n",
       "      <td>768.0</td>\n",
       "      <td>33.240885</td>\n",
       "      <td>11.760232</td>\n",
       "      <td>21.000</td>\n",
       "      <td>24.00000</td>\n",
       "      <td>29.0000</td>\n",
       "      <td>41.00000</td>\n",
       "      <td>81.00</td>\n",
       "    </tr>\n",
       "    <tr>\n",
       "      <th>Outcome</th>\n",
       "      <td>768.0</td>\n",
       "      <td>0.348958</td>\n",
       "      <td>0.476951</td>\n",
       "      <td>0.000</td>\n",
       "      <td>0.00000</td>\n",
       "      <td>0.0000</td>\n",
       "      <td>1.00000</td>\n",
       "      <td>1.00</td>\n",
       "    </tr>\n",
       "  </tbody>\n",
       "</table>\n",
       "</div>"
      ],
      "text/plain": [
       "                          count        mean         std     min       25%  \\\n",
       "Pregnancies               768.0    3.845052    3.369578   0.000   1.00000   \n",
       "Glucose                   768.0  120.894531   31.972618   0.000  99.00000   \n",
       "BloodPressure             768.0   69.105469   19.355807   0.000  62.00000   \n",
       "SkinThickness             768.0   20.536458   15.952218   0.000   0.00000   \n",
       "Insulin                   768.0   79.799479  115.244002   0.000   0.00000   \n",
       "BMI                       768.0   31.992578    7.884160   0.000  27.30000   \n",
       "DiabetesPedigreeFunction  768.0    0.471876    0.331329   0.078   0.24375   \n",
       "Age                       768.0   33.240885   11.760232  21.000  24.00000   \n",
       "Outcome                   768.0    0.348958    0.476951   0.000   0.00000   \n",
       "\n",
       "                               50%        75%     max  \n",
       "Pregnancies                 3.0000    6.00000   17.00  \n",
       "Glucose                   117.0000  140.25000  199.00  \n",
       "BloodPressure              72.0000   80.00000  122.00  \n",
       "SkinThickness              23.0000   32.00000   99.00  \n",
       "Insulin                    30.5000  127.25000  846.00  \n",
       "BMI                        32.0000   36.60000   67.10  \n",
       "DiabetesPedigreeFunction    0.3725    0.62625    2.42  \n",
       "Age                        29.0000   41.00000   81.00  \n",
       "Outcome                     0.0000    1.00000    1.00  "
      ]
     },
     "execution_count": 51,
     "metadata": {},
     "output_type": "execute_result"
    }
   ],
   "source": [
    "diabetes.describe().T"
   ]
  },
  {
   "cell_type": "markdown",
   "metadata": {},
   "source": [
    "> 포도당 수치 Glucose 피어가 0(min)인 데이터가 일정 수준 존재함. 전체 데이터 건수 대비 몇 퍼센트의 비율로 존재하는지 확인"
   ]
  },
  {
   "cell_type": "code",
   "execution_count": 57,
   "metadata": {},
   "outputs": [
    {
     "data": {
      "text/plain": [
       "array([[<AxesSubplot:title={'center':'Pregnancies'}>,\n",
       "        <AxesSubplot:title={'center':'Glucose'}>,\n",
       "        <AxesSubplot:title={'center':'BloodPressure'}>],\n",
       "       [<AxesSubplot:title={'center':'SkinThickness'}>,\n",
       "        <AxesSubplot:title={'center':'Insulin'}>,\n",
       "        <AxesSubplot:title={'center':'BMI'}>],\n",
       "       [<AxesSubplot:title={'center':'DiabetesPedigreeFunction'}>,\n",
       "        <AxesSubplot:title={'center':'Age'}>,\n",
       "        <AxesSubplot:title={'center':'Outcome'}>]], dtype=object)"
      ]
     },
     "execution_count": 57,
     "metadata": {},
     "output_type": "execute_result"
    },
    {
     "data": {
      "image/png": "[encoded data removed]",
      "text/plain": [
       "<Figure size 1440x1440 with 9 Axes>"
      ]
     },
     "metadata": {
      "needs_background": "light"
     },
     "output_type": "display_data"
    }
   ],
   "source": [
    "diabetes.hist(figsize=(20,20))\n",
    "# plt.hist(diabetes['Glucose'])"
   ]
  },
  {
   "cell_type": "code",
   "execution_count": 64,
   "metadata": {},
   "outputs": [
    {
     "name": "stdout",
     "output_type": "stream",
     "text": [
      "Glucose : 5(0.65%)\n",
      "BloodPressure : 35(4.56%)\n",
      "SkinThickness : 227(29.56%)\n",
      "Insulin : 374(48.7%)\n",
      "BMI : 11(1.43%)\n"
     ]
    }
   ],
   "source": [
    "# 0 값을 검사할 피처 명 리스트\n",
    "zero_features = ['Glucose','BloodPressure','SkinThickness', 'Insulin', 'BMI']\n",
    "\n",
    "# 전체 데이터 건수\n",
    "total_count = diabetes['Glucose'].count()\n",
    "\n",
    "\n",
    "for feature in zero_features:\n",
    "    zero_count = diabetes[diabetes[feature]==0][feature].count()\n",
    "    print(f\"{feature} : {zero_count}({np.round(100*zero_count/total_count,2)}%)\")"
   ]
  },
  {
   "cell_type": "markdown",
   "metadata": {},
   "source": [
    "> SkinThickness와 Insulin은 0의 값이 전체의 29%, 48%를 차지. 위 피처의 0값을 평균값으로 대체."
   ]
  },
  {
   "cell_type": "code",
   "execution_count": 65,
   "metadata": {},
   "outputs": [],
   "source": [
    "mean_zero_features = diabetes[zero_features].mean()\n",
    "diabetes[zero_features] = diabetes[zero_features].replace(0, mean_zero_features)"
   ]
  },
  {
   "cell_type": "markdown",
   "metadata": {},
   "source": [
    "#### 다시"
   ]
  },
  {
   "cell_type": "code",
   "execution_count": 66,
   "metadata": {},
   "outputs": [
    {
     "name": "stdout",
     "output_type": "stream",
     "text": [
      "confusion matrix:\n",
      "[[90 10]\n",
      " [21 33]]\n",
      "accuracy:0.7987, precision:0.7674, recall:0.6111, F1:0.6804, AUC:0.8433 \n"
     ]
    }
   ],
   "source": [
    "X = diabetes.iloc[:,:-1]\n",
    "y = diabetes.iloc[:,-1]\n",
    "\n",
    "scaler = StandardScaler()\n",
    "X_scaled = scaler.fit_transform(X)\n",
    "\n",
    "X_train, X_test, y_train, y_test = train_test_split(X_scaled, y, test_size=0.2, random_state=156, stratify=y)\n",
    "\n",
    "lr_clf = LogisticRegression()\n",
    "lr_clf.fit(X_train ,y_train)\n",
    "pred = lr_clf.predict(X_test)\n",
    "pred_proba = lr_clf.predict_proba(X_test)[:,1]\n",
    "\n",
    "get_clf_eval(y_test, pred, pred_proba)"
   ]
  },
  {
   "cell_type": "markdown",
   "metadata": {},
   "source": [
    "> 데이터 변환과 스케일링을 통해 성능 수치가 일정 수준 개선\n",
    "### threshold"
   ]
  },
  {
   "cell_type": "code",
   "execution_count": 75,
   "metadata": {},
   "outputs": [],
   "source": [
    "thresholds= [0.3, 0.33, 0.36, 0.39, 0.42, 0.45, 0.48, 0.50]\n",
    "pred_proba = lr_clf.predict_proba(X_test)\n",
    "# get_eval_by_threshold(y_test, pred_proba[:,1].reshape(-1,1), thresholds)"
   ]
  },
  {
   "cell_type": "code",
   "execution_count": 76,
   "metadata": {},
   "outputs": [
    {
     "name": "stdout",
     "output_type": "stream",
     "text": [
      "confusion matrix:\n",
      "[[88 12]\n",
      " [19 35]]\n",
      "accuracy:0.7987, precision:0.7447, recall:0.6481, F1:0.6931, AUC:0.8433 \n"
     ]
    }
   ],
   "source": [
    "bnz = Binarizer(threshold=0.48)\n",
    "pred_th_48 = bnz.fit_transform(pred_proba[:,1].reshape(-1,1))\n",
    "get_clf_eval(y_test, pred_th_48, pred_proba[:,1])"
   ]
  },
  {
   "cell_type": "code",
   "execution_count": null,
   "metadata": {},
   "outputs": [],
   "source": []
  }
 ],
 "metadata": {
  "kernelspec": {
   "display_name": "Python 3",
   "language": "python",
   "name": "python3"
  },
  "language_info": {
   "codemirror_mode": {
    "name": "ipython",
    "version": 3
   },
   "file_extension": ".py",
   "mimetype": "text/x-python",
   "name": "python",
   "nbconvert_exporter": "python",
   "pygments_lexer": "ipython3",
   "version": "3.8.5"
  }
 },
 "nbformat": 4,
 "nbformat_minor": 4
}
