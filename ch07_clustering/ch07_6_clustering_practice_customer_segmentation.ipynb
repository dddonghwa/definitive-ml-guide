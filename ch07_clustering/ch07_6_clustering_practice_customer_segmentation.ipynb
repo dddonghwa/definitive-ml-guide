{
 "cells": [
  {
   "cell_type": "markdown",
   "metadata": {},
   "source": [
    "## 06. 군집화 실습 - 고객 세그먼테이션\n",
    "### 고객 세그먼테이션의 정의와 기법\n",
    "1. 정의 : 다양한 기준으로 고객을 분류하는 기법을 지칭\n",
    "2. 활용 : CRM(Customer Relation Mangement, 고객 관계 관리)이나 마케팅의 중요 기반 요소\n",
    "3. 목표 : 타겟 마케팅 - 고객 특성에 맞게 세분화해서 그 유형에 따라서 맞춤형 마케팅이나 서비스를 제공\n",
    "4. 예제 : RFM 기법 사용 - Recency(R), Frequency(F), Monetary Value(M)\n",
    "- Recency : 가장 최근 상품 구입 일에서 오늘까지의 시간\n",
    "- Frequency : 상품 구매 횟수\n",
    "- Monetary Value : 총 구매 금액\n",
    "\n",
    "### 데이터 세트 로딩과 데이터 클렌징\n",
    "- 데이터 세트 [다운로드](https://archive.ics.uci.edu/ml/machine-learning-databases/00352/Online%20Retail.xlsx)"
   ]
  },
  {
   "cell_type": "code",
   "execution_count": null,
   "metadata": {},
   "outputs": [],
   "source": []
  },
  {
   "cell_type": "markdown",
   "metadata": {},
   "source": [
    "#### 참고\n",
    "- Online Retail Data Set [link](https://archive.ics.uci.edu/ml/datasets/online+retail)"
   ]
  },
  {
   "cell_type": "code",
   "execution_count": null,
   "metadata": {},
   "outputs": [],
   "source": []
  }
 ],
 "metadata": {
  "kernelspec": {
   "display_name": "Python 3",
   "language": "python",
   "name": "python3"
  },
  "language_info": {
   "codemirror_mode": {
    "name": "ipython",
    "version": 3
   },
   "file_extension": ".py",
   "mimetype": "text/x-python",
   "name": "python",
   "nbconvert_exporter": "python",
   "pygments_lexer": "ipython3",
   "version": "3.8.2"
  }
 },
 "nbformat": 4,
 "nbformat_minor": 4
}
