{
 "cells": [
  {
   "cell_type": "markdown",
   "metadata": {},
   "source": [
    "## 06. XGBoost(eXtra Gradient Boost)\n",
    "\n",
    "- GBM 기반\n",
    "- GBM의 단점인 느린 수행 시간 및 과적합 규제 부재 등의 문제를 해결\n",
    "\n",
    "### XGBoost 장점\n",
    "#### 1. 과적합 규제 \n",
    "표준 GBM 내부에는 규제 기능이 없으나 XGBoost는 자체적으로 규제 기능을 가짐\n",
    "#### 2. 나무가지치기 \n",
    "일반적으로 GBM 분할 시 부정 손실이 발생하면 분할을 더 이상 수행 X, but 지나치게 많은 분할 발생 가능성 있음, XGBoost는 더 이상 긍정 이득이 없는 분할을 미리 제거하여 분할 수를 더 줄임\n",
    "#### 3. 자체 내재된 교차 검증 \n",
    "지정된 반복 횟수 X → 교차검증을 통해 평가 데이터 세트의 평가 값이 최적화되면 반복을 중단\n",
    "#### 4. 결손값 자체 처리"
   ]
  },
  {
   "cell_type": "code",
   "execution_count": null,
   "metadata": {},
   "outputs": [],
   "source": [
    "# xgboost 설치\n",
    "# ! conda install -c anaconda py-xgboost"
   ]
  },
  {
   "cell_type": "code",
   "execution_count": 1,
   "metadata": {},
   "outputs": [],
   "source": [
    "import xgboost as xgb\n",
    "from xgboost import XGBClassifier"
   ]
  },
  {
   "cell_type": "markdown",
   "metadata": {},
   "source": [
    "### 파이썬 래퍼 XGBoost 하이퍼 파라미터\n",
    "- 일반 파라미터 : 스레드 개수, slient 모드 등 선택을 위한 파라미터, 바뀌는 경우 거의 없음\n",
    "- 부스터 파라미터 : 트리 최적화, 부스팅, regulation 등과 관련 파라미터\n",
    "- 학습 태스크 파라미터 : 학습 수행 시 객체 함수, 평가를 위한 지표 등을 설정하는 파라미터\n",
    "\n",
    "#### 일반 파라미터 \n",
    "- `booster`(default=gbtree) : gbtree(tree based model) 또는 gblinear(linear model) 선택\n",
    "- `slient`(default=0) : 출력 메시지를 나타내고 싶지 않을 경우 1\n",
    "- `nthread`(default=전체 사용) : cpu 실행 스레드 개수 조정\n",
    "\n",
    "#### 주요 부스터 파라미터\n",
    "- `eta`(default=0.3) = learning_rate, (0~1), \n",
    "    - 파이썬 래퍼 기반 : default=0.3\n",
    "    - 사이킷런 래퍼 클래스 : learning_rate, default=0.1\n",
    "- `num_boost_rounds` = n_estimators\n",
    "- `min_child_weight`(default=1) : 트리에 추가적으로 가지를 나눌지 결정하기 위해 필요한 데이터들의 weight 총합, 값이 작을수록 분할을 자제, 과적합 조절\n",
    "- `gamma`(default=6) = max_depth : 0- 깊이에 제한을 없앰, 값이 높을수록 과적합 위험 ↑, 보통 3~10 사이의 값을 적용\n",
    "- `sub_sample`(default=1) = subsample : 데이터 샘플링하는 비율, 보통 0.5~1 사이의 값을 적용\n",
    "- ``"
   ]
  },
  {
   "cell_type": "code",
   "execution_count": null,
   "metadata": {},
   "outputs": [],
   "source": []
  }
 ],
 "metadata": {
  "kernelspec": {
   "display_name": "Python 3",
   "language": "python",
   "name": "python3"
  },
  "language_info": {
   "codemirror_mode": {
    "name": "ipython",
    "version": 3
   },
   "file_extension": ".py",
   "mimetype": "text/x-python",
   "name": "python",
   "nbconvert_exporter": "python",
   "pygments_lexer": "ipython3",
   "version": "3.8.2"
  }
 },
 "nbformat": 4,
 "nbformat_minor": 4
}
