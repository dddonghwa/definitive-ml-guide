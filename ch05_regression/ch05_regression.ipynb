{
 "cells": [
  {
   "cell_type": "markdown",
   "metadata": {},
   "source": [
    "# chapter 05 | 회귀\n",
    "\n",
    "## 01. 회귀 소개\n",
    "- 일반 선형 회귀\n",
    "- 릿지\n",
    "- 라쏘\n",
    "- 엘라스틱넷\n",
    "- 로지스틱 회귀\n",
    "\n",
    "## 02. 단순 선형 회귀를 통한 회귀 이해\n",
    "#### 회귀계수 (intercept)\n",
    "단순 선형 회귀 직선에서의 계수 $w_{0}, w_{1}$\n",
    "$$\\hat{Y} = w_{0} + w_{1}*X$$\n",
    "#### 오류 종류\n",
    "- MAE\n",
    "- RSS(Residual Sum of Sqaure, 오차 제곱의 합) = 비용 (Cost)\n",
    "$$RSS(w_{0}, w_{1}) = \\frac{1}{N} \\sum_{i=1}^{N}{(y_{i}-(w_{0}+w_{1} * x_{i}))^{2}}$$\n",
    "$$RSS(w_{0}, w_{1}) = 비용 함수(Cost Function), 손실함수(Loss Function)$$\n",
    "\n",
    "## 03. 비용 최소화하기 - 경사하강법(Gradient Descent) 소개\n",
    "#### 경사하강법의 과정\n",
    "1. 임의의 $w_{0}, w_{1}$ 값을 설정하고 첫 손실함수 값을 계산\n",
    "2. $w_{1} = w_{1} + \\eta \\frac{2}{N} \\sum_{i=1}^{N}{x_{i} *(y_{i} - \\hat{y_{i}}) }$,\n",
    "$w_{0} = w_{0} + \\eta \\frac{2}{N} \\sum_{i=1}^{N}{(y_{i} - \\hat{y_{i}}) }$로 업데이트한 후 다시 손실함수 값을 계산\n",
    "3. 손실 함수의 값이 감소했으면 다시 2.과정을 반복, 더 이상 손실함수 값이 감소하지 않으면 그때 $w_{0}, w_{1}$을 구하고 반복을 중지"
   ]
  },
  {
   "cell_type": "code",
   "execution_count": 54,
   "metadata": {},
   "outputs": [],
   "source": [
    "import numpy as np\n",
    "import pandas as pd\n",
    "import seaborn as sns\n",
    "import matplotlib.pyplot as plt"
   ]
  },
  {
   "cell_type": "code",
   "execution_count": 4,
   "metadata": {},
   "outputs": [
    {
     "data": {
      "text/plain": [
       "<matplotlib.collections.PathCollection at 0x7faed00c75b0>"
      ]
     },
     "execution_count": 4,
     "metadata": {},
     "output_type": "execute_result"
    },
    {
     "data": {
      "image/png": "[encoded data removed]",
      "text/plain": [
       "<Figure size 432x288 with 1 Axes>"
      ]
     },
     "metadata": {
      "needs_background": "light"
     },
     "output_type": "display_data"
    }
   ],
   "source": [
    "X = 2*np.random.rand(100,1)\n",
    "y = 4*X + 6 + np.random.randn(100,1)\n",
    "\n",
    "plt.scatter(X,y)"
   ]
  },
  {
   "cell_type": "code",
   "execution_count": 3,
   "metadata": {},
   "outputs": [],
   "source": [
    "def get_cost(y, y_pred):\n",
    "    N = len(y)\n",
    "    cost = np.sum((y-y_pred)**2)/N\n",
    "    return cost"
   ]
  },
  {
   "cell_type": "code",
   "execution_count": 9,
   "metadata": {},
   "outputs": [],
   "source": [
    "def get_weight_updates(w1, w0, X, y, learning_rate = 0.01):\n",
    "    N = len(y)\n",
    "    \n",
    "    y_pred = np.dot(X, w1.T) + w0\n",
    "    diff = y - y_pred\n",
    "    \n",
    "    w1_update = np.zeros_like(w1)\n",
    "    w0_update = np.zeros_like(w0)\n",
    "    \n",
    "    w0_factors = np.ones((N,1))\n",
    "    \n",
    "    w1_update = -(2/N) * learning_rate * np.dot(X.T, diff)\n",
    "    w0_update = -(2/N) * learning_rate * np.dot(w0_factors.T, diff)\n",
    "    \n",
    "    return w1_update, w0_update"
   ]
  },
  {
   "cell_type": "code",
   "execution_count": 10,
   "metadata": {},
   "outputs": [],
   "source": [
    "def gradient_descent_steps(X,y, iters=1000):\n",
    "    \n",
    "    w0 = np.zeros((1,1))\n",
    "    w1 = np.zeros((1,1))\n",
    "    \n",
    "    for idx in range(iters):\n",
    "        w1_update, w0_update = get_weight_updates(w1, w0, X,y, learning_rate=0.01)\n",
    "        w1 = w1 - w1_update\n",
    "        w0 = w0 - w0_update\n",
    "    \n",
    "    return w1, w0"
   ]
  },
  {
   "cell_type": "code",
   "execution_count": 11,
   "metadata": {},
   "outputs": [
    {
     "name": "stdout",
     "output_type": "stream",
     "text": [
      "[[4.12514281]] [[5.77424573]]\n",
      "1.1251875232912731\n"
     ]
    }
   ],
   "source": [
    "w1, w0 = gradient_descent_steps(X,y, iters=1000)\n",
    "print(w1, w0)\n",
    "y_pred = w1[0,0] *X + w0\n",
    "print(get_cost(y, y_pred))"
   ]
  },
  {
   "cell_type": "code",
   "execution_count": 12,
   "metadata": {},
   "outputs": [
    {
     "data": {
      "text/plain": [
       "[<matplotlib.lines.Line2D at 0x7faef1ffb6a0>]"
      ]
     },
     "execution_count": 12,
     "metadata": {},
     "output_type": "execute_result"
    },
    {
     "data": {
      "image/png": "[encoded data removed]",
      "text/plain": [
       "<Figure size 432x288 with 1 Axes>"
      ]
     },
     "metadata": {
      "needs_background": "light"
     },
     "output_type": "display_data"
    }
   ],
   "source": [
    "plt.scatter(X,y)\n",
    "plt.plot(X, y_pred)"
   ]
  },
  {
   "cell_type": "markdown",
   "metadata": {},
   "source": [
    "## 06. 규제 선형 모델 - 릿지, 라쏘, 엘라스틱넷\n",
    "\n",
    "- 다항회귀에서 deg=1일 경우, 과소적합(underfitting) \n",
    "$$y = w_{1}x_{1} + w_{0}$$\n",
    "- deg=15일 경우, 과대적합(overfitting)\n",
    "$$y = w_{15}x_{15} + w_{14}x_{14} + ... + w_{1}x_{1}+w_{0}$$\n",
    "\n",
    "<img src=\"https://media.vlpt.us/images/joo4438/post/c759a5f6-d3c5-4c33-ade9-78c4cfec4b85/image.png\" >\n",
    "\n",
    "#### → 최적 모델을 위한 손실함수 구성 요소 = 학습 데이터 잔차 최소화 + 회귀계수 크기 제어  \n",
    "손실 함수 목표 = Min(RSS(W)) + alpha * $\\Vert W\\Vert _{2}^{2}$\n",
    "- alpha가 0(또는 매우 작은 값)이라면, 기존과 동일한 손실함수\n",
    "- alpha가 매우 크다면, W 값을 작게 만들어야 손실함수를 최소화할 수 있음\n",
    "→ alpha 값으로 페널티를 부과해 회귀 계수 값의 크기(절댓값)를 감소시켜 과적합을 개선하는 방식 = 규제(Regulation)\n",
    "\n",
    "#### 1. L1 라쏘(Lass)\n",
    "- $\\Vert W\\Vert _{1}$ : <U>W의 절댓값</U>에 대해 패널티를 부여\n",
    "- 영향력이 크지 않은 회귀 계수 값을 0으로 변환\n",
    "\n",
    "#### 2. L2 릿지(Ridge)\n",
    "- $\\Vert W\\Vert _{2}^{2}$ : <U>W의 제곱</U>에 대해 패널티를 부여\n",
    "\n",
    "### 릿지 회귀\n",
    "보스턴 주택 가격 데이터 세트"
   ]
  },
  {
   "cell_type": "code",
   "execution_count": 21,
   "metadata": {},
   "outputs": [
    {
     "name": "stdout",
     "output_type": "stream",
     "text": [
      "(506, 14)\n"
     ]
    }
   ],
   "source": [
    "# pp.306~308\n",
    "from sklearn.datasets import load_boston\n",
    "\n",
    "boston = load_boston()\n",
    "bostonDF = pd.DataFrame(boston.data, columns=boston.feature_names)\n",
    "bostonDF['PRICE'] = boston.target\n",
    "print(bostonDF.shape)\n",
    "# bostonDF.head()\n",
    "\n",
    "y_target = bostonDF['PRICE']\n",
    "X_data = bostonDF.drop('PRICE', axis=1)"
   ]
  },
  {
   "cell_type": "code",
   "execution_count": 23,
   "metadata": {},
   "outputs": [
    {
     "name": "stdout",
     "output_type": "stream",
     "text": [
      "[3.3796 4.9289 5.305  8.6371 5.3401]\n",
      "5.5182\n"
     ]
    }
   ],
   "source": [
    "from sklearn.linear_model import Ridge\n",
    "from sklearn.model_selection import cross_val_score\n",
    "\n",
    "ridge = Ridge(alpha=10)\n",
    "scores = cross_val_score(ridge, X_data, y_target, scoring = 'neg_mean_squared_error', cv=5)\n",
    "rmse_scores = np.sqrt(np.abs(scores))\n",
    "avg_rmse = np.mean(rmse_scores)\n",
    "\n",
    "print(np.round(rmse_scores,4))\n",
    "print(np.round(avg_rmse,4))\n",
    "\n",
    "# LinearRegression : 5.836"
   ]
  },
  {
   "cell_type": "markdown",
   "metadata": {},
   "source": [
    "#### alpha 변화에 따른 RMSE와 회귀 계수 값의 변화\n",
    "- 회귀 계수 값 추출 : model.coef_"
   ]
  },
  {
   "cell_type": "code",
   "execution_count": 34,
   "metadata": {},
   "outputs": [
    {
     "name": "stdout",
     "output_type": "stream",
     "text": [
      "alpha = 0\t5.8287\n",
      "alpha = 0.1\t5.7885\n",
      "alpha = 1\t5.6526\n",
      "alpha = 10\t5.5182\n",
      "alpha = 100\t5.3296\n"
     ]
    }
   ],
   "source": [
    "alphas = [0,0.1,1, 10,100]\n",
    "\n",
    "for alpha in alphas : \n",
    "    ridge = Ridge(alpha = alpha)\n",
    "    scores = cross_val_score(ridge, X_data, y_target, scoring = 'neg_mean_squared_error', cv=5)\n",
    "    rmse_scores = np.sqrt(np.abs(scores))\n",
    "    avg_rmse = np.mean(rmse_scores)\n",
    "    print(\"alpha = {}\\t{:.4f}\".format(alpha, avg_rmse))"
   ]
  },
  {
   "cell_type": "code",
   "execution_count": 61,
   "metadata": {},
   "outputs": [
    {
     "data": {
      "image/png": "[encoded data removed]",
      "text/plain": [
       "<Figure size 1296x432 with 5 Axes>"
      ]
     },
     "metadata": {
      "needs_background": "light"
     },
     "output_type": "display_data"
    }
   ],
   "source": [
    "fig, axes = plt.subplots(figsize=(18,6), nrows=1, ncols=5)\n",
    "coeff_df = pd.DataFrame()\n",
    "\n",
    "for idx, alpha in enumerate(alphas) : \n",
    "    ridge = Ridge(alpha = alpha)\n",
    "\n",
    "    ridge.fit(X_data, y_target)\n",
    "    coeff = pd.Series(ridge.coef_, index = X_data.columns)\n",
    "    coeff = coeff.sort_values(ascending=False)\n",
    "    \n",
    "    coeff_df[\"alpha_\"+str(alpha)] = coeff\n",
    "    \n",
    "    axes[idx].set_title(\"alpha \"+str(alpha))\n",
    "    axes[idx].set_xlim(-5,5)\n",
    "    sns.barplot(x=coeff.values, y=coeff.index, ax=axes[idx])"
   ]
  },
  {
   "cell_type": "code",
   "execution_count": 62,
   "metadata": {},
   "outputs": [
    {
     "data": {
      "text/html": [
       "<div>\n",
       "<style scoped>\n",
       "    .dataframe tbody tr th:only-of-type {\n",
       "        vertical-align: middle;\n",
       "    }\n",
       "\n",
       "    .dataframe tbody tr th {\n",
       "        vertical-align: top;\n",
       "    }\n",
       "\n",
       "    .dataframe thead th {\n",
       "        text-align: right;\n",
       "    }\n",
       "</style>\n",
       "<table border=\"1\" class=\"dataframe\">\n",
       "  <thead>\n",
       "    <tr style=\"text-align: right;\">\n",
       "      <th></th>\n",
       "      <th>alpha_0</th>\n",
       "      <th>alpha_0.1</th>\n",
       "      <th>alpha_1</th>\n",
       "      <th>alpha_10</th>\n",
       "      <th>alpha_100</th>\n",
       "    </tr>\n",
       "  </thead>\n",
       "  <tbody>\n",
       "    <tr>\n",
       "      <th>RM</th>\n",
       "      <td>3.809865</td>\n",
       "      <td>3.818233</td>\n",
       "      <td>3.854000</td>\n",
       "      <td>3.702272</td>\n",
       "      <td>2.334536</td>\n",
       "    </tr>\n",
       "    <tr>\n",
       "      <th>CHAS</th>\n",
       "      <td>2.686734</td>\n",
       "      <td>2.670019</td>\n",
       "      <td>2.552393</td>\n",
       "      <td>1.952021</td>\n",
       "      <td>0.638335</td>\n",
       "    </tr>\n",
       "    <tr>\n",
       "      <th>RAD</th>\n",
       "      <td>0.306049</td>\n",
       "      <td>0.303515</td>\n",
       "      <td>0.290142</td>\n",
       "      <td>0.279596</td>\n",
       "      <td>0.315358</td>\n",
       "    </tr>\n",
       "    <tr>\n",
       "      <th>ZN</th>\n",
       "      <td>0.046420</td>\n",
       "      <td>0.046572</td>\n",
       "      <td>0.047443</td>\n",
       "      <td>0.049579</td>\n",
       "      <td>0.054496</td>\n",
       "    </tr>\n",
       "    <tr>\n",
       "      <th>INDUS</th>\n",
       "      <td>0.020559</td>\n",
       "      <td>0.015999</td>\n",
       "      <td>-0.008805</td>\n",
       "      <td>-0.042962</td>\n",
       "      <td>-0.052826</td>\n",
       "    </tr>\n",
       "    <tr>\n",
       "      <th>B</th>\n",
       "      <td>0.009312</td>\n",
       "      <td>0.009368</td>\n",
       "      <td>0.009673</td>\n",
       "      <td>0.010037</td>\n",
       "      <td>0.009393</td>\n",
       "    </tr>\n",
       "    <tr>\n",
       "      <th>AGE</th>\n",
       "      <td>0.000692</td>\n",
       "      <td>-0.000269</td>\n",
       "      <td>-0.005415</td>\n",
       "      <td>-0.010707</td>\n",
       "      <td>0.001212</td>\n",
       "    </tr>\n",
       "    <tr>\n",
       "      <th>TAX</th>\n",
       "      <td>-0.012335</td>\n",
       "      <td>-0.012421</td>\n",
       "      <td>-0.012912</td>\n",
       "      <td>-0.013993</td>\n",
       "      <td>-0.015856</td>\n",
       "    </tr>\n",
       "    <tr>\n",
       "      <th>CRIM</th>\n",
       "      <td>-0.108011</td>\n",
       "      <td>-0.107474</td>\n",
       "      <td>-0.104595</td>\n",
       "      <td>-0.101435</td>\n",
       "      <td>-0.102202</td>\n",
       "    </tr>\n",
       "    <tr>\n",
       "      <th>LSTAT</th>\n",
       "      <td>-0.524758</td>\n",
       "      <td>-0.525966</td>\n",
       "      <td>-0.533343</td>\n",
       "      <td>-0.559366</td>\n",
       "      <td>-0.660764</td>\n",
       "    </tr>\n",
       "    <tr>\n",
       "      <th>PTRATIO</th>\n",
       "      <td>-0.952747</td>\n",
       "      <td>-0.940759</td>\n",
       "      <td>-0.876074</td>\n",
       "      <td>-0.797945</td>\n",
       "      <td>-0.829218</td>\n",
       "    </tr>\n",
       "    <tr>\n",
       "      <th>DIS</th>\n",
       "      <td>-1.475567</td>\n",
       "      <td>-1.459626</td>\n",
       "      <td>-1.372654</td>\n",
       "      <td>-1.248808</td>\n",
       "      <td>-1.153390</td>\n",
       "    </tr>\n",
       "    <tr>\n",
       "      <th>NOX</th>\n",
       "      <td>-17.766611</td>\n",
       "      <td>-16.684645</td>\n",
       "      <td>-10.777015</td>\n",
       "      <td>-2.371619</td>\n",
       "      <td>-0.262847</td>\n",
       "    </tr>\n",
       "  </tbody>\n",
       "</table>\n",
       "</div>"
      ],
      "text/plain": [
       "           alpha_0  alpha_0.1    alpha_1  alpha_10  alpha_100\n",
       "RM        3.809865   3.818233   3.854000  3.702272   2.334536\n",
       "CHAS      2.686734   2.670019   2.552393  1.952021   0.638335\n",
       "RAD       0.306049   0.303515   0.290142  0.279596   0.315358\n",
       "ZN        0.046420   0.046572   0.047443  0.049579   0.054496\n",
       "INDUS     0.020559   0.015999  -0.008805 -0.042962  -0.052826\n",
       "B         0.009312   0.009368   0.009673  0.010037   0.009393\n",
       "AGE       0.000692  -0.000269  -0.005415 -0.010707   0.001212\n",
       "TAX      -0.012335  -0.012421  -0.012912 -0.013993  -0.015856\n",
       "CRIM     -0.108011  -0.107474  -0.104595 -0.101435  -0.102202\n",
       "LSTAT    -0.524758  -0.525966  -0.533343 -0.559366  -0.660764\n",
       "PTRATIO  -0.952747  -0.940759  -0.876074 -0.797945  -0.829218\n",
       "DIS      -1.475567  -1.459626  -1.372654 -1.248808  -1.153390\n",
       "NOX     -17.766611 -16.684645 -10.777015 -2.371619  -0.262847"
      ]
     },
     "execution_count": 62,
     "metadata": {},
     "output_type": "execute_result"
    }
   ],
   "source": [
    "coeff_df"
   ]
  },
  {
   "cell_type": "markdown",
   "metadata": {},
   "source": [
    "#### → alpha 값이 증가하면서 회귀 계수가 지속적으로 작아지지만 0이 되지는 않는다\n",
    "\n",
    "### 라쏘 회귀\n",
    "- 목표 : RSS(W) + alpha * $\\Vert W \\Vert _{1}$ 을 최소화하는 W 찾기\n",
    "- 릿지는 회귀 계수의 크기(절댓값)을 감소시키는데 반해, 라쏘는 불필요한 회귀 계수를 급격하게 감소시켜 0으로 만들어 제거\n",
    "- 적절한 피처만 회귀에 포함시킴 (피처 선택의 특징)"
   ]
  },
  {
   "cell_type": "code",
   "execution_count": 80,
   "metadata": {},
   "outputs": [],
   "source": [
    "from sklearn.linear_model import Lasso, ElasticNet\n",
    "\n",
    "def get_linear_reg_eval(model_name, alphas, X_data, y_target):\n",
    "    \n",
    "    coeff_df = pd.DataFrame()\n",
    "    \n",
    "    for idx, alpha in enumerate(alphas):\n",
    "        if model_name == 'Ridge' : model = Ridge(alpha = alpha)\n",
    "        elif model_name == 'Lasso' : model = Lasso(alpha = alpha)\n",
    "        elif model_name == 'ElasticNet' : model = ElasticNet(alpha = alpha, l1_ratio=0.7)\n",
    "        \n",
    "        neg_mse_scores = cross_val_score(model, X_data, y_target, scoring='neg_mean_squared_error', cv=5)\n",
    "        avg_rmse = np.mean(np.sqrt(np.abs(neg_mse_scores)))\n",
    "#         print(avg_rmse)\n",
    "\n",
    "        model.fit(X_data, y_target)\n",
    "        coeff = pd.Series(model.coef_, index = X_data.columns)\n",
    "        coeff['avg_rmse'] = avg_rmse \n",
    "        \n",
    "        coeff_df[\"alpha:\"+str(alpha)] = coeff\n",
    "        \n",
    "    return coeff_df\n"
   ]
  },
  {
   "cell_type": "code",
   "execution_count": 92,
   "metadata": {},
   "outputs": [
    {
     "data": {
      "text/html": [
       "<div>\n",
       "<style scoped>\n",
       "    .dataframe tbody tr th:only-of-type {\n",
       "        vertical-align: middle;\n",
       "    }\n",
       "\n",
       "    .dataframe tbody tr th {\n",
       "        vertical-align: top;\n",
       "    }\n",
       "\n",
       "    .dataframe thead th {\n",
       "        text-align: right;\n",
       "    }\n",
       "</style>\n",
       "<table border=\"1\" class=\"dataframe\">\n",
       "  <thead>\n",
       "    <tr style=\"text-align: right;\">\n",
       "      <th></th>\n",
       "      <th>alpha:0.07</th>\n",
       "      <th>alpha:0.1</th>\n",
       "      <th>alpha:0.5</th>\n",
       "      <th>alpha:1</th>\n",
       "      <th>alpha:3</th>\n",
       "    </tr>\n",
       "  </thead>\n",
       "  <tbody>\n",
       "    <tr>\n",
       "      <th>CRIM</th>\n",
       "      <td>-0.098193</td>\n",
       "      <td>-0.097894</td>\n",
       "      <td>-0.083289</td>\n",
       "      <td>-0.063437</td>\n",
       "      <td>-0.000000</td>\n",
       "    </tr>\n",
       "    <tr>\n",
       "      <th>ZN</th>\n",
       "      <td>0.049059</td>\n",
       "      <td>0.049211</td>\n",
       "      <td>0.049544</td>\n",
       "      <td>0.049165</td>\n",
       "      <td>0.037231</td>\n",
       "    </tr>\n",
       "    <tr>\n",
       "      <th>INDUS</th>\n",
       "      <td>-0.042120</td>\n",
       "      <td>-0.036619</td>\n",
       "      <td>-0.005253</td>\n",
       "      <td>-0.000000</td>\n",
       "      <td>-0.000000</td>\n",
       "    </tr>\n",
       "    <tr>\n",
       "      <th>CHAS</th>\n",
       "      <td>1.434343</td>\n",
       "      <td>0.955190</td>\n",
       "      <td>0.000000</td>\n",
       "      <td>0.000000</td>\n",
       "      <td>0.000000</td>\n",
       "    </tr>\n",
       "    <tr>\n",
       "      <th>NOX</th>\n",
       "      <td>-0.000000</td>\n",
       "      <td>-0.000000</td>\n",
       "      <td>-0.000000</td>\n",
       "      <td>-0.000000</td>\n",
       "      <td>0.000000</td>\n",
       "    </tr>\n",
       "    <tr>\n",
       "      <th>RM</th>\n",
       "      <td>3.789725</td>\n",
       "      <td>3.703202</td>\n",
       "      <td>2.498212</td>\n",
       "      <td>0.949811</td>\n",
       "      <td>0.000000</td>\n",
       "    </tr>\n",
       "    <tr>\n",
       "      <th>AGE</th>\n",
       "      <td>-0.011706</td>\n",
       "      <td>-0.010037</td>\n",
       "      <td>0.003604</td>\n",
       "      <td>0.020910</td>\n",
       "      <td>0.042495</td>\n",
       "    </tr>\n",
       "    <tr>\n",
       "      <th>DIS</th>\n",
       "      <td>-1.176583</td>\n",
       "      <td>-1.160538</td>\n",
       "      <td>-0.936605</td>\n",
       "      <td>-0.668790</td>\n",
       "      <td>-0.000000</td>\n",
       "    </tr>\n",
       "    <tr>\n",
       "      <th>RAD</th>\n",
       "      <td>0.270936</td>\n",
       "      <td>0.274707</td>\n",
       "      <td>0.277451</td>\n",
       "      <td>0.264206</td>\n",
       "      <td>0.061864</td>\n",
       "    </tr>\n",
       "    <tr>\n",
       "      <th>TAX</th>\n",
       "      <td>-0.014290</td>\n",
       "      <td>-0.014570</td>\n",
       "      <td>-0.015442</td>\n",
       "      <td>-0.015212</td>\n",
       "      <td>-0.008602</td>\n",
       "    </tr>\n",
       "    <tr>\n",
       "      <th>PTRATIO</th>\n",
       "      <td>-0.765107</td>\n",
       "      <td>-0.770654</td>\n",
       "      <td>-0.758752</td>\n",
       "      <td>-0.722966</td>\n",
       "      <td>-0.265072</td>\n",
       "    </tr>\n",
       "    <tr>\n",
       "      <th>B</th>\n",
       "      <td>0.010248</td>\n",
       "      <td>0.010249</td>\n",
       "      <td>0.009469</td>\n",
       "      <td>0.008247</td>\n",
       "      <td>0.006510</td>\n",
       "    </tr>\n",
       "    <tr>\n",
       "      <th>LSTAT</th>\n",
       "      <td>-0.560431</td>\n",
       "      <td>-0.568769</td>\n",
       "      <td>-0.656290</td>\n",
       "      <td>-0.761115</td>\n",
       "      <td>-0.807679</td>\n",
       "    </tr>\n",
       "    <tr>\n",
       "      <th>avg_rmse</th>\n",
       "      <td>5.612284</td>\n",
       "      <td>5.615116</td>\n",
       "      <td>5.669123</td>\n",
       "      <td>5.776021</td>\n",
       "      <td>6.188763</td>\n",
       "    </tr>\n",
       "  </tbody>\n",
       "</table>\n",
       "</div>"
      ],
      "text/plain": [
       "          alpha:0.07  alpha:0.1  alpha:0.5   alpha:1   alpha:3\n",
       "CRIM       -0.098193  -0.097894  -0.083289 -0.063437 -0.000000\n",
       "ZN          0.049059   0.049211   0.049544  0.049165  0.037231\n",
       "INDUS      -0.042120  -0.036619  -0.005253 -0.000000 -0.000000\n",
       "CHAS        1.434343   0.955190   0.000000  0.000000  0.000000\n",
       "NOX        -0.000000  -0.000000  -0.000000 -0.000000  0.000000\n",
       "RM          3.789725   3.703202   2.498212  0.949811  0.000000\n",
       "AGE        -0.011706  -0.010037   0.003604  0.020910  0.042495\n",
       "DIS        -1.176583  -1.160538  -0.936605 -0.668790 -0.000000\n",
       "RAD         0.270936   0.274707   0.277451  0.264206  0.061864\n",
       "TAX        -0.014290  -0.014570  -0.015442 -0.015212 -0.008602\n",
       "PTRATIO    -0.765107  -0.770654  -0.758752 -0.722966 -0.265072\n",
       "B           0.010248   0.010249   0.009469  0.008247  0.006510\n",
       "LSTAT      -0.560431  -0.568769  -0.656290 -0.761115 -0.807679\n",
       "avg_rmse    5.612284   5.615116   5.669123  5.776021  6.188763"
      ]
     },
     "execution_count": 92,
     "metadata": {},
     "output_type": "execute_result"
    }
   ],
   "source": [
    "lasso_alphas = [0.07, 0.1, 0.5, 1, 3]\n",
    "coeff_lasso_df = get_linear_reg_eval(\"Lasso\", lasso_alphas, X_data, y_target)\n",
    "\n",
    "# columns 순으로 정렬\n",
    "# sort_column = 'alpha:'+str(lasso_alphas[2])\n",
    "# coeff_lasso_df.sort_values(by=sort_column, ascending=False)\n",
    "\n",
    "coeff_lasso_df"
   ]
  },
  {
   "cell_type": "markdown",
   "metadata": {},
   "source": [
    "#### → alpha 값이 증가하면서 일부 회귀 계수는 아예 0으로 바뀐다. (피처 선택)\n",
    "\n",
    "### 엘라스틱넷 회귀\n",
    "- 목표 : RSS(W) + alpha2 * $\\Vert W \\Vert _{2}^{2}$ +alpha1 * $\\Vert W \\Vert_{1}$을 최소화하는 W\n",
    "- 필요성 : 라쏘 회귀가 서로 상관관계가 높은 피처들의 경우에 이들 중에서 중요 피처만을 선택하고 다른 피처들은 모두 회귀 계수를 0으로 만드는 성향이 강함 → alpha 값에 따라 회귀 계수 값이 급격히 변동 → 라쏘 + L2 규제 = 엘라스틱넷\n",
    "- 단점 : 수행시간 오래걸림\n",
    "- 파라미터 $l1\\_ratio = \\frac{alpha1}{(alpha1+alpha2)}$ \n",
    "    - 0 → L2(라쏘)\n",
    "    - 1 → L1(릿지)\n",
    "    \n",
    "cf. get_linear_reg_eval에서 ElasticNet 모델의 경우 l1_ratio = 0.7로 고정시킴"
   ]
  },
  {
   "cell_type": "code",
   "execution_count": 97,
   "metadata": {},
   "outputs": [
    {
     "data": {
      "text/html": [
       "<div>\n",
       "<style scoped>\n",
       "    .dataframe tbody tr th:only-of-type {\n",
       "        vertical-align: middle;\n",
       "    }\n",
       "\n",
       "    .dataframe tbody tr th {\n",
       "        vertical-align: top;\n",
       "    }\n",
       "\n",
       "    .dataframe thead th {\n",
       "        text-align: right;\n",
       "    }\n",
       "</style>\n",
       "<table border=\"1\" class=\"dataframe\">\n",
       "  <thead>\n",
       "    <tr style=\"text-align: right;\">\n",
       "      <th></th>\n",
       "      <th>alpha:0.07</th>\n",
       "      <th>alpha:0.1</th>\n",
       "      <th>alpha:0.5</th>\n",
       "      <th>alpha:1</th>\n",
       "      <th>alpha:3</th>\n",
       "    </tr>\n",
       "  </thead>\n",
       "  <tbody>\n",
       "    <tr>\n",
       "      <th>CRIM</th>\n",
       "      <td>-0.099468</td>\n",
       "      <td>-0.099213</td>\n",
       "      <td>-0.089070</td>\n",
       "      <td>-0.073577</td>\n",
       "      <td>-0.019058</td>\n",
       "    </tr>\n",
       "    <tr>\n",
       "      <th>ZN</th>\n",
       "      <td>0.050107</td>\n",
       "      <td>0.050617</td>\n",
       "      <td>0.052878</td>\n",
       "      <td>0.052136</td>\n",
       "      <td>0.038268</td>\n",
       "    </tr>\n",
       "    <tr>\n",
       "      <th>INDUS</th>\n",
       "      <td>-0.044855</td>\n",
       "      <td>-0.042719</td>\n",
       "      <td>-0.023252</td>\n",
       "      <td>-0.000000</td>\n",
       "      <td>-0.000000</td>\n",
       "    </tr>\n",
       "    <tr>\n",
       "      <th>CHAS</th>\n",
       "      <td>1.330724</td>\n",
       "      <td>0.979706</td>\n",
       "      <td>0.000000</td>\n",
       "      <td>0.000000</td>\n",
       "      <td>0.000000</td>\n",
       "    </tr>\n",
       "    <tr>\n",
       "      <th>NOX</th>\n",
       "      <td>-0.175072</td>\n",
       "      <td>-0.000000</td>\n",
       "      <td>-0.000000</td>\n",
       "      <td>-0.000000</td>\n",
       "      <td>-0.000000</td>\n",
       "    </tr>\n",
       "    <tr>\n",
       "      <th>RM</th>\n",
       "      <td>3.574162</td>\n",
       "      <td>3.414154</td>\n",
       "      <td>1.918419</td>\n",
       "      <td>0.938789</td>\n",
       "      <td>0.000000</td>\n",
       "    </tr>\n",
       "    <tr>\n",
       "      <th>AGE</th>\n",
       "      <td>-0.010116</td>\n",
       "      <td>-0.008276</td>\n",
       "      <td>0.007760</td>\n",
       "      <td>0.020348</td>\n",
       "      <td>0.043446</td>\n",
       "    </tr>\n",
       "    <tr>\n",
       "      <th>DIS</th>\n",
       "      <td>-1.189438</td>\n",
       "      <td>-1.173647</td>\n",
       "      <td>-0.975902</td>\n",
       "      <td>-0.725174</td>\n",
       "      <td>-0.031208</td>\n",
       "    </tr>\n",
       "    <tr>\n",
       "      <th>RAD</th>\n",
       "      <td>0.278880</td>\n",
       "      <td>0.283443</td>\n",
       "      <td>0.300761</td>\n",
       "      <td>0.289299</td>\n",
       "      <td>0.146846</td>\n",
       "    </tr>\n",
       "    <tr>\n",
       "      <th>TAX</th>\n",
       "      <td>-0.014522</td>\n",
       "      <td>-0.014814</td>\n",
       "      <td>-0.016046</td>\n",
       "      <td>-0.016218</td>\n",
       "      <td>-0.011417</td>\n",
       "    </tr>\n",
       "    <tr>\n",
       "      <th>PTRATIO</th>\n",
       "      <td>-0.779498</td>\n",
       "      <td>-0.784725</td>\n",
       "      <td>-0.790969</td>\n",
       "      <td>-0.738672</td>\n",
       "      <td>-0.423065</td>\n",
       "    </tr>\n",
       "    <tr>\n",
       "      <th>B</th>\n",
       "      <td>0.010122</td>\n",
       "      <td>0.010067</td>\n",
       "      <td>0.009114</td>\n",
       "      <td>0.008320</td>\n",
       "      <td>0.007020</td>\n",
       "    </tr>\n",
       "    <tr>\n",
       "      <th>LSTAT</th>\n",
       "      <td>-0.574822</td>\n",
       "      <td>-0.587702</td>\n",
       "      <td>-0.693861</td>\n",
       "      <td>-0.760457</td>\n",
       "      <td>-0.800368</td>\n",
       "    </tr>\n",
       "    <tr>\n",
       "      <th>avg_rmse</th>\n",
       "      <td>5.541654</td>\n",
       "      <td>5.525928</td>\n",
       "      <td>5.466749</td>\n",
       "      <td>5.596874</td>\n",
       "      <td>6.068122</td>\n",
       "    </tr>\n",
       "  </tbody>\n",
       "</table>\n",
       "</div>"
      ],
      "text/plain": [
       "          alpha:0.07  alpha:0.1  alpha:0.5   alpha:1   alpha:3\n",
       "CRIM       -0.099468  -0.099213  -0.089070 -0.073577 -0.019058\n",
       "ZN          0.050107   0.050617   0.052878  0.052136  0.038268\n",
       "INDUS      -0.044855  -0.042719  -0.023252 -0.000000 -0.000000\n",
       "CHAS        1.330724   0.979706   0.000000  0.000000  0.000000\n",
       "NOX        -0.175072  -0.000000  -0.000000 -0.000000 -0.000000\n",
       "RM          3.574162   3.414154   1.918419  0.938789  0.000000\n",
       "AGE        -0.010116  -0.008276   0.007760  0.020348  0.043446\n",
       "DIS        -1.189438  -1.173647  -0.975902 -0.725174 -0.031208\n",
       "RAD         0.278880   0.283443   0.300761  0.289299  0.146846\n",
       "TAX        -0.014522  -0.014814  -0.016046 -0.016218 -0.011417\n",
       "PTRATIO    -0.779498  -0.784725  -0.790969 -0.738672 -0.423065\n",
       "B           0.010122   0.010067   0.009114  0.008320  0.007020\n",
       "LSTAT      -0.574822  -0.587702  -0.693861 -0.760457 -0.800368\n",
       "avg_rmse    5.541654   5.525928   5.466749  5.596874  6.068122"
      ]
     },
     "execution_count": 97,
     "metadata": {},
     "output_type": "execute_result"
    }
   ],
   "source": [
    "elastic_alphas = [0.07, 0.1, 0.5, 1, 3]\n",
    "coeff_elastic_df = get_linear_reg_eval('ElasticNet', alphas = elastic_alphas, X_data = X_data, y_target = y_target)\n",
    "coeff_elastic_df"
   ]
  },
  {
   "cell_type": "markdown",
   "metadata": {},
   "source": [
    "#### → alpha값에 따른 피처들의 회귀 계수들 값이 라쏘보다는 상대적으로 0이 되는 값이 적음"
   ]
  },
  {
   "cell_type": "code",
   "execution_count": null,
   "metadata": {},
   "outputs": [],
   "source": []
  }
 ],
 "metadata": {
  "kernelspec": {
   "display_name": "Python 3",
   "language": "python",
   "name": "python3"
  },
  "language_info": {
   "codemirror_mode": {
    "name": "ipython",
    "version": 3
   },
   "file_extension": ".py",
   "mimetype": "text/x-python",
   "name": "python",
   "nbconvert_exporter": "python",
   "pygments_lexer": "ipython3",
   "version": "3.8.2"
  }
 },
 "nbformat": 4,
 "nbformat_minor": 4
}
